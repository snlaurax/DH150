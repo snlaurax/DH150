{
 "cells": [
  {
   "cell_type": "code",
   "execution_count": 2,
   "id": "b337dbae-2b96-4f38-8485-6429aa543531",
   "metadata": {},
   "outputs": [
    {
     "name": "stdout",
     "output_type": "stream",
     "text": [
      ".. _diabetes_dataset:\n",
      "\n",
      "Diabetes dataset\n",
      "----------------\n",
      "\n",
      "Ten baseline variables, age, sex, body mass index, average blood\n",
      "pressure, and six blood serum measurements were obtained for each of n =\n",
      "442 diabetes patients, as well as the response of interest, a\n",
      "quantitative measure of disease progression one year after baseline.\n",
      "\n",
      "**Data Set Characteristics:**\n",
      "\n",
      "  :Number of Instances: 442\n",
      "\n",
      "  :Number of Attributes: First 10 columns are numeric predictive values\n",
      "\n",
      "  :Target: Column 11 is a quantitative measure of disease progression one year after baseline\n",
      "\n",
      "  :Attribute Information:\n",
      "      - age     age in years\n",
      "      - sex\n",
      "      - bmi     body mass index\n",
      "      - bp      average blood pressure\n",
      "      - s1      tc, total serum cholesterol\n",
      "      - s2      ldl, low-density lipoproteins\n",
      "      - s3      hdl, high-density lipoproteins\n",
      "      - s4      tch, total cholesterol / HDL\n",
      "      - s5      ltg, possibly log of serum triglycerides level\n",
      "      - s6      glu, blood sugar level\n",
      "\n",
      "Note: Each of these 10 feature variables have been mean centered and scaled by the standard deviation times `n_samples` (i.e. the sum of squares of each column totals 1).\n",
      "\n",
      "Source URL:\n",
      "https://www4.stat.ncsu.edu/~boos/var.select/diabetes.html\n",
      "\n",
      "For more information see:\n",
      "Bradley Efron, Trevor Hastie, Iain Johnstone and Robert Tibshirani (2004) \"Least Angle Regression,\" Annals of Statistics (with discussion), 407-499.\n",
      "(https://web.stanford.edu/~hastie/Papers/LARS/LeastAngle_2002.pdf)\n",
      "[[ 0.06169621]\n",
      " [-0.05147406]\n",
      " [ 0.04445121]\n",
      " [-0.01159501]\n",
      " [-0.03638469]\n",
      " [-0.04069594]\n",
      " [-0.04716281]\n",
      " [-0.00189471]\n",
      " [ 0.06169621]\n",
      " [ 0.03906215]\n",
      " [-0.08380842]\n",
      " [ 0.01750591]\n",
      " [-0.02884001]\n",
      " [-0.00189471]\n",
      " [-0.02560657]\n",
      " [-0.01806189]\n",
      " [ 0.04229559]\n",
      " [ 0.01211685]\n",
      " [-0.0105172 ]\n",
      " [-0.01806189]\n",
      " [-0.05686312]\n",
      " [-0.02237314]\n",
      " [-0.00405033]\n",
      " [ 0.06061839]\n",
      " [ 0.03582872]\n",
      " [-0.01267283]\n",
      " [-0.07734155]\n",
      " [ 0.05954058]\n",
      " [-0.02129532]\n",
      " [-0.00620595]\n",
      " [ 0.04445121]\n",
      " [-0.06548562]\n",
      " [ 0.12528712]\n",
      " [-0.05039625]\n",
      " [-0.06332999]\n",
      " [-0.03099563]\n",
      " [ 0.02289497]\n",
      " [ 0.01103904]\n",
      " [ 0.07139652]\n",
      " [ 0.01427248]\n",
      " [-0.00836158]\n",
      " [-0.06764124]\n",
      " [-0.0105172 ]\n",
      " [-0.02345095]\n",
      " [ 0.06816308]\n",
      " [-0.03530688]\n",
      " [-0.01159501]\n",
      " [-0.0730303 ]\n",
      " [-0.04177375]\n",
      " [ 0.01427248]\n",
      " [-0.00728377]\n",
      " [ 0.0164281 ]\n",
      " [-0.00943939]\n",
      " [-0.01590626]\n",
      " [ 0.0250506 ]\n",
      " [-0.04931844]\n",
      " [ 0.04121778]\n",
      " [-0.06332999]\n",
      " [-0.06440781]\n",
      " [-0.02560657]\n",
      " [-0.00405033]\n",
      " [ 0.00457217]\n",
      " [-0.00728377]\n",
      " [-0.0374625 ]\n",
      " [-0.02560657]\n",
      " [-0.02452876]\n",
      " [-0.01806189]\n",
      " [-0.01482845]\n",
      " [-0.02991782]\n",
      " [-0.046085  ]\n",
      " [-0.06979687]\n",
      " [ 0.03367309]\n",
      " [-0.00405033]\n",
      " [-0.02021751]\n",
      " [ 0.00241654]\n",
      " [-0.03099563]\n",
      " [ 0.02828403]\n",
      " [-0.03638469]\n",
      " [-0.05794093]\n",
      " [-0.0374625 ]\n",
      " [ 0.01211685]\n",
      " [-0.02237314]\n",
      " [-0.03530688]\n",
      " [ 0.00996123]\n",
      " [-0.03961813]\n",
      " [ 0.07139652]\n",
      " [-0.07518593]\n",
      " [-0.00620595]\n",
      " [-0.04069594]\n",
      " [-0.04824063]\n",
      " [-0.02560657]\n",
      " [ 0.0519959 ]\n",
      " [ 0.00457217]\n",
      " [-0.06440781]\n",
      " [-0.01698407]\n",
      " [-0.05794093]\n",
      " [ 0.00996123]\n",
      " [ 0.08864151]\n",
      " [-0.00512814]\n",
      " [-0.06440781]\n",
      " [ 0.01750591]\n",
      " [-0.04500719]\n",
      " [ 0.02828403]\n",
      " [ 0.04121778]\n",
      " [ 0.06492964]\n",
      " [-0.03207344]\n",
      " [-0.07626374]\n",
      " [ 0.04984027]\n",
      " [ 0.04552903]\n",
      " [-0.00943939]\n",
      " [-0.03207344]\n",
      " [ 0.00457217]\n",
      " [ 0.02073935]\n",
      " [ 0.01427248]\n",
      " [ 0.11019775]\n",
      " [ 0.00133873]\n",
      " [ 0.05846277]\n",
      " [-0.02129532]\n",
      " [-0.0105172 ]\n",
      " [-0.04716281]\n",
      " [ 0.00457217]\n",
      " [ 0.01750591]\n",
      " [ 0.08109682]\n",
      " [ 0.0347509 ]\n",
      " [ 0.02397278]\n",
      " [-0.00836158]\n",
      " [-0.06117437]\n",
      " [-0.00189471]\n",
      " [-0.06225218]\n",
      " [ 0.0164281 ]\n",
      " [ 0.09618619]\n",
      " [-0.06979687]\n",
      " [-0.02129532]\n",
      " [-0.05362969]\n",
      " [ 0.0433734 ]\n",
      " [ 0.05630715]\n",
      " [-0.0816528 ]\n",
      " [ 0.04984027]\n",
      " [ 0.11127556]\n",
      " [ 0.06169621]\n",
      " [ 0.01427248]\n",
      " [ 0.04768465]\n",
      " [ 0.01211685]\n",
      " [ 0.00564998]\n",
      " [ 0.04660684]\n",
      " [ 0.12852056]\n",
      " [ 0.05954058]\n",
      " [ 0.09295276]\n",
      " [ 0.01535029]\n",
      " [-0.00512814]\n",
      " [ 0.0703187 ]\n",
      " [-0.00405033]\n",
      " [-0.00081689]\n",
      " [-0.04392938]\n",
      " [ 0.02073935]\n",
      " [ 0.06061839]\n",
      " [-0.0105172 ]\n",
      " [-0.03315126]\n",
      " [-0.06548562]\n",
      " [ 0.0433734 ]\n",
      " [-0.06225218]\n",
      " [ 0.06385183]\n",
      " [ 0.03043966]\n",
      " [ 0.07247433]\n",
      " [-0.0191397 ]\n",
      " [-0.06656343]\n",
      " [-0.06009656]\n",
      " [ 0.06924089]\n",
      " [ 0.05954058]\n",
      " [-0.02668438]\n",
      " [-0.02021751]\n",
      " [-0.046085  ]\n",
      " [ 0.07139652]\n",
      " [-0.07949718]\n",
      " [ 0.00996123]\n",
      " [-0.03854032]\n",
      " [ 0.01966154]\n",
      " [ 0.02720622]\n",
      " [-0.00836158]\n",
      " [-0.01590626]\n",
      " [ 0.00457217]\n",
      " [-0.04285156]\n",
      " [ 0.00564998]\n",
      " [-0.03530688]\n",
      " [ 0.02397278]\n",
      " [-0.01806189]\n",
      " [ 0.04229559]\n",
      " [-0.0547075 ]\n",
      " [-0.00297252]\n",
      " [-0.06656343]\n",
      " [-0.01267283]\n",
      " [-0.04177375]\n",
      " [-0.03099563]\n",
      " [-0.00512814]\n",
      " [-0.05901875]\n",
      " [ 0.0250506 ]\n",
      " [-0.046085  ]\n",
      " [ 0.00349435]\n",
      " [ 0.05415152]\n",
      " [-0.04500719]\n",
      " [-0.05794093]\n",
      " [-0.05578531]\n",
      " [ 0.00133873]\n",
      " [ 0.03043966]\n",
      " [ 0.00672779]\n",
      " [ 0.04660684]\n",
      " [ 0.02612841]\n",
      " [ 0.04552903]\n",
      " [ 0.04013997]\n",
      " [-0.01806189]\n",
      " [ 0.01427248]\n",
      " [ 0.03690653]\n",
      " [ 0.00349435]\n",
      " [-0.07087468]\n",
      " [-0.03315126]\n",
      " [ 0.09403057]\n",
      " [ 0.03582872]\n",
      " [ 0.03151747]\n",
      " [-0.06548562]\n",
      " [-0.04177375]\n",
      " [-0.03961813]\n",
      " [-0.03854032]\n",
      " [-0.02560657]\n",
      " [-0.02345095]\n",
      " [-0.06656343]\n",
      " [ 0.03259528]\n",
      " [-0.046085  ]\n",
      " [-0.02991782]\n",
      " [-0.01267283]\n",
      " [-0.01590626]\n",
      " [ 0.07139652]\n",
      " [-0.03099563]\n",
      " [ 0.00026092]\n",
      " [ 0.03690653]\n",
      " [ 0.03906215]\n",
      " [-0.01482845]\n",
      " [ 0.00672779]\n",
      " [-0.06871905]\n",
      " [-0.00943939]\n",
      " [ 0.01966154]\n",
      " [ 0.07462995]\n",
      " [-0.00836158]\n",
      " [-0.02345095]\n",
      " [-0.046085  ]\n",
      " [ 0.05415152]\n",
      " [-0.03530688]\n",
      " [-0.03207344]\n",
      " [-0.0816528 ]\n",
      " [ 0.04768465]\n",
      " [ 0.06061839]\n",
      " [ 0.05630715]\n",
      " [ 0.09834182]\n",
      " [ 0.05954058]\n",
      " [ 0.03367309]\n",
      " [ 0.05630715]\n",
      " [-0.06548562]\n",
      " [ 0.16085492]\n",
      " [-0.05578531]\n",
      " [-0.02452876]\n",
      " [-0.03638469]\n",
      " [-0.00836158]\n",
      " [-0.04177375]\n",
      " [ 0.12744274]\n",
      " [-0.07734155]\n",
      " [ 0.02828403]\n",
      " [-0.02560657]\n",
      " [-0.06225218]\n",
      " [-0.00081689]\n",
      " [ 0.08864151]\n",
      " [-0.03207344]\n",
      " [ 0.03043966]\n",
      " [ 0.00888341]\n",
      " [ 0.00672779]\n",
      " [-0.02021751]\n",
      " [-0.02452876]\n",
      " [-0.01159501]\n",
      " [ 0.02612841]\n",
      " [-0.05901875]\n",
      " [-0.03638469]\n",
      " [-0.02452876]\n",
      " [ 0.01858372]\n",
      " [-0.0902753 ]\n",
      " [-0.00512814]\n",
      " [-0.05255187]\n",
      " [-0.02237314]\n",
      " [-0.02021751]\n",
      " [-0.0547075 ]\n",
      " [-0.00620595]\n",
      " [-0.01698407]\n",
      " [ 0.05522933]\n",
      " [ 0.07678558]\n",
      " [ 0.01858372]\n",
      " [-0.02237314]\n",
      " [ 0.09295276]\n",
      " [-0.03099563]\n",
      " [ 0.03906215]\n",
      " [-0.06117437]\n",
      " [-0.00836158]\n",
      " [-0.0374625 ]\n",
      " [-0.01375064]\n",
      " [ 0.07355214]\n",
      " [-0.02452876]\n",
      " [ 0.03367309]\n",
      " [ 0.0347509 ]\n",
      " [-0.03854032]\n",
      " [-0.03961813]\n",
      " [-0.00189471]\n",
      " [-0.03099563]\n",
      " [-0.046085  ]\n",
      " [ 0.00133873]\n",
      " [ 0.06492964]\n",
      " [ 0.04013997]\n",
      " [-0.02345095]\n",
      " [ 0.05307371]\n",
      " [ 0.04013997]\n",
      " [-0.02021751]\n",
      " [ 0.01427248]\n",
      " [-0.03422907]\n",
      " [ 0.00672779]\n",
      " [ 0.00457217]\n",
      " [ 0.03043966]\n",
      " [ 0.0519959 ]\n",
      " [ 0.06169621]\n",
      " [-0.00728377]\n",
      " [ 0.00564998]\n",
      " [ 0.05415152]\n",
      " [-0.00836158]\n",
      " [ 0.114509  ]\n",
      " [ 0.06708527]\n",
      " [-0.05578531]\n",
      " [ 0.03043966]\n",
      " [-0.02560657]\n",
      " [ 0.10480869]\n",
      " [-0.00620595]\n",
      " [-0.04716281]\n",
      " [-0.04824063]\n",
      " [ 0.08540807]\n",
      " [-0.01267283]\n",
      " [-0.03315126]\n",
      " [-0.00728377]\n",
      " [-0.01375064]\n",
      " [ 0.05954058]\n",
      " [ 0.02181716]\n",
      " [ 0.01858372]\n",
      " [-0.01159501]\n",
      " [-0.00297252]\n",
      " [ 0.01750591]\n",
      " [-0.02991782]\n",
      " [-0.02021751]\n",
      " [-0.05794093]\n",
      " [ 0.06061839]\n",
      " [-0.04069594]\n",
      " [-0.07195249]\n",
      " [-0.05578531]\n",
      " [ 0.04552903]\n",
      " [-0.00943939]\n",
      " [-0.03315126]\n",
      " [ 0.04984027]\n",
      " [-0.08488624]\n",
      " [ 0.00564998]\n",
      " [ 0.02073935]\n",
      " [-0.00728377]\n",
      " [ 0.10480869]\n",
      " [-0.02452876]\n",
      " [-0.00620595]\n",
      " [-0.03854032]\n",
      " [ 0.13714305]\n",
      " [ 0.17055523]\n",
      " [ 0.00241654]\n",
      " [ 0.03798434]\n",
      " [-0.05794093]\n",
      " [-0.00943939]\n",
      " [-0.02345095]\n",
      " [-0.0105172 ]\n",
      " [-0.03422907]\n",
      " [-0.00297252]\n",
      " [ 0.06816308]\n",
      " [ 0.00996123]\n",
      " [ 0.00241654]\n",
      " [-0.03854032]\n",
      " [ 0.02612841]\n",
      " [-0.08919748]\n",
      " [ 0.06061839]\n",
      " [-0.02884001]\n",
      " [-0.02991782]\n",
      " [-0.0191397 ]\n",
      " [-0.04069594]\n",
      " [ 0.01535029]\n",
      " [-0.02452876]\n",
      " [ 0.00133873]\n",
      " [ 0.06924089]\n",
      " [-0.06979687]\n",
      " [-0.02991782]\n",
      " [-0.046085  ]\n",
      " [ 0.01858372]\n",
      " [ 0.00133873]\n",
      " [-0.03099563]\n",
      " [-0.00405033]\n",
      " [ 0.01535029]\n",
      " [ 0.02289497]\n",
      " [ 0.04552903]\n",
      " [-0.04500719]\n",
      " [-0.03315126]\n",
      " [ 0.097264  ]\n",
      " [ 0.05415152]\n",
      " [ 0.12313149]\n",
      " [-0.08057499]\n",
      " [ 0.09295276]\n",
      " [-0.05039625]\n",
      " [-0.01159501]\n",
      " [-0.0277622 ]\n",
      " [ 0.05846277]\n",
      " [ 0.08540807]\n",
      " [-0.00081689]\n",
      " [ 0.00672779]\n",
      " [ 0.00888341]\n",
      " [ 0.08001901]\n",
      " [ 0.07139652]\n",
      " [-0.02452876]\n",
      " [-0.0547075 ]\n",
      " [-0.03638469]\n",
      " [ 0.0164281 ]\n",
      " [ 0.07786339]\n",
      " [-0.03961813]\n",
      " [ 0.01103904]\n",
      " [-0.04069594]\n",
      " [-0.03422907]\n",
      " [ 0.00564998]\n",
      " [ 0.08864151]\n",
      " [-0.03315126]\n",
      " [-0.05686312]\n",
      " [-0.03099563]\n",
      " [ 0.05522933]\n",
      " [-0.06009656]\n",
      " [ 0.00133873]\n",
      " [-0.02345095]\n",
      " [-0.07410811]\n",
      " [ 0.01966154]\n",
      " [-0.01590626]\n",
      " [-0.01590626]\n",
      " [ 0.03906215]\n",
      " [-0.0730303 ]]\n"
     ]
    }
   ],
   "source": [
    "#FEATURE BMI\n",
    "\n",
    "import sklearn.datasets\n",
    "import numpy as np\n",
    "\n",
    "diabetes = sklearn.datasets.load_diabetes()\n",
    "print(diabetes.DESCR)\n",
    "x = diabetes.data\n",
    "y = diabetes.target\n",
    "z=[]\n",
    "for counter in x: \n",
    "    z.append(counter[2])\n",
    "np_array = np.array(z)\n",
    "np_array2= np_array.reshape(-1, 1)\n",
    "print(np_array2)"
   ]
  },
  {
   "cell_type": "code",
   "execution_count": 5,
   "id": "9330e784-d53b-4ec5-a9f5-c437c5ede87f",
   "metadata": {},
   "outputs": [
    {
     "data": {
      "text/plain": [
       "[<matplotlib.lines.Line2D at 0x7f0c77313eb0>]"
      ]
     },
     "execution_count": 5,
     "metadata": {},
     "output_type": "execute_result"
    },
    {
     "data": {
      "image/png": "[encoded data removed]",
      "text/plain": [
       "<Figure size 432x288 with 1 Axes>"
      ]
     },
     "metadata": {
      "needs_background": "light"
     },
     "output_type": "display_data"
    }
   ],
   "source": [
    "import matplotlib.pyplot as plt\n",
    "plt.plot(z,y, \"ro\")"
   ]
  },
  {
   "cell_type": "code",
   "execution_count": 6,
   "id": "b9c4bbf1-5b40-4168-9b36-871bad07cdde",
   "metadata": {},
   "outputs": [
    {
     "name": "stdout",
     "output_type": "stream",
     "text": [
      "10\n"
     ]
    }
   ],
   "source": [
    "print (x[0].size)"
   ]
  },
  {
   "cell_type": "code",
   "execution_count": 7,
   "id": "4440e7dc-8a18-45eb-a83d-67d02c09818e",
   "metadata": {},
   "outputs": [
    {
     "data": {
      "text/plain": [
       "[<matplotlib.lines.Line2D at 0x7f0c77219c40>]"
      ]
     },
     "execution_count": 7,
     "metadata": {},
     "output_type": "execute_result"
    },
    {
     "data": {
      "image/png": "[encoded data removed]",
      "text/plain": [
       "<Figure size 432x288 with 1 Axes>"
      ]
     },
     "metadata": {
      "needs_background": "light"
     },
     "output_type": "display_data"
    }
   ],
   "source": [
    "y = (diabetes.target > 150)\n",
    "plt.plot(np_array,y, \"ro\")"
   ]
  },
  {
   "cell_type": "code",
   "execution_count": 8,
   "id": "74716aff-1682-49ba-af4a-5c4cf5ec9b45",
   "metadata": {},
   "outputs": [],
   "source": [
    "import sklearn.linear_model\n",
    "model = sklearn.linear_model.LogisticRegression()"
   ]
  },
  {
   "cell_type": "code",
   "execution_count": 9,
   "id": "5ed1e025-e1a1-4fe3-9675-de372390bbfe",
   "metadata": {},
   "outputs": [
    {
     "data": {
      "text/plain": [
       "LogisticRegression()"
      ]
     },
     "execution_count": 9,
     "metadata": {},
     "output_type": "execute_result"
    }
   ],
   "source": [
    "#Train the Data\n",
    "model.fit(np_array2,y)"
   ]
  },
  {
   "cell_type": "code",
   "execution_count": 10,
   "id": "02aed320-9bd9-459b-bba9-c4f5095c9299",
   "metadata": {},
   "outputs": [
    {
     "data": {
      "text/plain": [
       "array([ True])"
      ]
     },
     "execution_count": 10,
     "metadata": {},
     "output_type": "execute_result"
    }
   ],
   "source": [
    "# Make a prediction\n",
    "x_test = [[25000]]\n",
    "model.predict(x_test)"
   ]
  },
  {
   "cell_type": "code",
   "execution_count": 11,
   "id": "5c1c0540-16dc-477d-915f-4f3c329c4445",
   "metadata": {},
   "outputs": [
    {
     "data": {
      "image/png": "[encoded data removed]",
      "text/plain": [
       "<Figure size 432x288 with 1 Axes>"
      ]
     },
     "metadata": {
      "needs_background": "light"
     },
     "output_type": "display_data"
    }
   ],
   "source": [
    "# Visualize what the predictions are for this model\n",
    "x_new = np.linspace(-0.1,0.2)\n",
    "x_new = x_new.reshape(-1,1)\n",
    "y_pred = model.predict(x_new)\n",
    "plt.plot(x_new, y_pred)\n",
    "plt.plot(np_array2,y, \"ro\")\n",
    "plt.show()"
   ]
  },
  {
   "cell_type": "code",
   "execution_count": 12,
   "id": "e0850945-b9b3-4b39-8b8c-91ec4d621faa",
   "metadata": {},
   "outputs": [
    {
     "data": {
      "text/plain": [
       "0.6402714932126696"
      ]
     },
     "execution_count": 12,
     "metadata": {},
     "output_type": "execute_result"
    }
   ],
   "source": [
    "model.score(np_array2, y)"
   ]
  },
  {
   "cell_type": "markdown",
   "id": "9a32d59f-374c-4c53-81dc-c38ac486168a",
   "metadata": {},
   "source": [
    "Compare this with a scatter plot of y vs x for your training data"
   ]
  },
  {
   "cell_type": "code",
   "execution_count": 13,
   "id": "f75cf0f3-8e1c-410f-b908-1d170b304094",
   "metadata": {},
   "outputs": [
    {
     "data": {
      "text/plain": [
       "<matplotlib.collections.PathCollection at 0x7f0c76de9220>"
      ]
     },
     "execution_count": 13,
     "metadata": {},
     "output_type": "execute_result"
    },
    {
     "data": {
      "image/png": "[encoded data removed]",
      "text/plain": [
       "<Figure size 432x288 with 1 Axes>"
      ]
     },
     "metadata": {
      "needs_background": "light"
     },
     "output_type": "display_data"
    }
   ],
   "source": [
    "plt.scatter (np_array2,y)"
   ]
  },
  {
   "cell_type": "markdown",
   "id": "7f8ca932-fb3a-4fe1-a0ef-59cb264d82ec",
   "metadata": {},
   "source": [
    "Compare this with a scatter plot of y vs x for your training data\n",
    "Compare it also with a scatter plot of y vs x for your test data"
   ]
  },
  {
   "cell_type": "code",
   "execution_count": 14,
   "id": "907b1fc1-6338-48d2-8f17-10bbcb78ff15",
   "metadata": {},
   "outputs": [],
   "source": [
    "import sklearn.model_selection\n",
    "x_train, x_test, y_train, y_test = sklearn.model_selection.train_test_split(\n",
    "    np_array2, y, test_size=0.2, random_state=42)"
   ]
  },
  {
   "cell_type": "code",
   "execution_count": 15,
   "id": "9525a429-1bf9-4ff9-94ee-21e720f24418",
   "metadata": {},
   "outputs": [],
   "source": [
    "x_train.shape\n",
    "x_test.shape\n",
    "x_test = x_test.reshape(-1,1)\n",
    "x_train = x_train.reshape(-1,1)"
   ]
  },
  {
   "cell_type": "code",
   "execution_count": 18,
   "id": "b06227a4-9fc0-42cd-8266-708f93cb9ee9",
   "metadata": {},
   "outputs": [
    {
     "data": {
      "text/plain": [
       "[<matplotlib.lines.Line2D at 0x7f0c76caa130>]"
      ]
     },
     "execution_count": 18,
     "metadata": {},
     "output_type": "execute_result"
    },
    {
     "data": {
      "image/png": "[encoded data removed]",
      "text/plain": [
       "<Figure size 432x288 with 1 Axes>"
      ]
     },
     "metadata": {
      "needs_background": "light"
     },
     "output_type": "display_data"
    }
   ],
   "source": [
    "# Visualize what the predictions are for the train model\n",
    "\n",
    "plt.plot(x_train,y_train,'bo')"
   ]
  },
  {
   "cell_type": "markdown",
   "id": "e93b3b23-b61d-4d9c-9c2d-3c465a87fba2",
   "metadata": {},
   "source": [
    "I think the trained model is definitely a lot more similar to the predicted values compared to the test model as it appears like there are more points of data. "
   ]
  },
  {
   "cell_type": "code",
   "execution_count": 17,
   "id": "83aeb549-c016-4ad7-bdf2-49fd3730ca17",
   "metadata": {},
   "outputs": [
    {
     "data": {
      "text/plain": [
       "[<matplotlib.lines.Line2D at 0x7f0c76d39c10>]"
      ]
     },
     "execution_count": 17,
     "metadata": {},
     "output_type": "execute_result"
    },
    {
     "data": {
      "image/png": "[encoded data removed]",
      "text/plain": [
       "<Figure size 432x288 with 1 Axes>"
      ]
     },
     "metadata": {
      "needs_background": "light"
     },
     "output_type": "display_data"
    }
   ],
   "source": [
    "# Visualize what the predictions are for the test model\n",
    "\n",
    "plt.plot(x_test,y_test,'ko')"
   ]
  },
  {
   "cell_type": "markdown",
   "id": "9be2c5a7-6f3c-4f0b-a594-91333f703934",
   "metadata": {},
   "source": [
    "Calculate the confusion matrix, accuracy, precision, and recall of the model on your test data"
   ]
  },
  {
   "cell_type": "code",
   "execution_count": 21,
   "id": "0275aed2-9a8c-4baf-8753-e2aa39c16c6a",
   "metadata": {},
   "outputs": [
    {
     "data": {
      "text/plain": [
       "array([[226,  16],\n",
       "       [143,  57]])"
      ]
     },
     "execution_count": 21,
     "metadata": {},
     "output_type": "execute_result"
    }
   ],
   "source": [
    "from sklearn.metrics import confusion_matrix\n",
    "confusion_matrix(y, model.predict(np_array2))"
   ]
  },
  {
   "cell_type": "code",
   "execution_count": 22,
   "id": "98770c89-8256-4c28-915f-dea230074793",
   "metadata": {},
   "outputs": [
    {
     "data": {
      "text/plain": [
       "0.6402714932126696"
      ]
     },
     "execution_count": 22,
     "metadata": {},
     "output_type": "execute_result"
    }
   ],
   "source": [
    "model.score(np_array2, y)"
   ]
  },
  {
   "cell_type": "markdown",
   "id": "3ff06944-0ad6-41dc-a6ac-68ce7cb848a0",
   "metadata": {},
   "source": [
    "Comment on whether you think logistic regression is doing a good job as a classifier for this data"
   ]
  },
  {
   "cell_type": "markdown",
   "id": "2cff78f8-a185-42ad-98bc-727400f29f6b",
   "metadata": {},
   "source": [
    "I believe that the logistic regression is doing a decent job as a classifier for this data because it communicates a very clear cut answer of a person's likelihood to have diabetes. However, there are points very close together horizontally which doesn't help a user draw an exact conclusion of the role bmi has in diabetes."
   ]
  },
  {
   "cell_type": "code",
   "execution_count": 23,
   "id": "71f3ef62-21f3-4491-94b0-09f68b4d170d",
   "metadata": {},
   "outputs": [
    {
     "name": "stdout",
     "output_type": "stream",
     "text": [
      ".. _diabetes_dataset:\n",
      "\n",
      "Diabetes dataset\n",
      "----------------\n",
      "\n",
      "Ten baseline variables, age, sex, body mass index, average blood\n",
      "pressure, and six blood serum measurements were obtained for each of n =\n",
      "442 diabetes patients, as well as the response of interest, a\n",
      "quantitative measure of disease progression one year after baseline.\n",
      "\n",
      "**Data Set Characteristics:**\n",
      "\n",
      "  :Number of Instances: 442\n",
      "\n",
      "  :Number of Attributes: First 10 columns are numeric predictive values\n",
      "\n",
      "  :Target: Column 11 is a quantitative measure of disease progression one year after baseline\n",
      "\n",
      "  :Attribute Information:\n",
      "      - age     age in years\n",
      "      - sex\n",
      "      - bmi     body mass index\n",
      "      - bp      average blood pressure\n",
      "      - s1      tc, total serum cholesterol\n",
      "      - s2      ldl, low-density lipoproteins\n",
      "      - s3      hdl, high-density lipoproteins\n",
      "      - s4      tch, total cholesterol / HDL\n",
      "      - s5      ltg, possibly log of serum triglycerides level\n",
      "      - s6      glu, blood sugar level\n",
      "\n",
      "Note: Each of these 10 feature variables have been mean centered and scaled by the standard deviation times `n_samples` (i.e. the sum of squares of each column totals 1).\n",
      "\n",
      "Source URL:\n",
      "https://www4.stat.ncsu.edu/~boos/var.select/diabetes.html\n",
      "\n",
      "For more information see:\n",
      "Bradley Efron, Trevor Hastie, Iain Johnstone and Robert Tibshirani (2004) \"Least Angle Regression,\" Annals of Statistics (with discussion), 407-499.\n",
      "(https://web.stanford.edu/~hastie/Papers/LARS/LeastAngle_2002.pdf)\n",
      "[[-3.48207628e-02]\n",
      " [-1.91633397e-02]\n",
      " [-3.41944659e-02]\n",
      " [ 2.49905934e-02]\n",
      " [ 1.55961395e-02]\n",
      " [-7.92878444e-02]\n",
      " [-2.48000121e-02]\n",
      " [ 1.08914381e-01]\n",
      " [ 6.20168566e-03]\n",
      " [-3.45076144e-02]\n",
      " [-9.05611890e-02]\n",
      " [ 4.59715403e-02]\n",
      " [-9.76888589e-03]\n",
      " [-1.57187067e-02]\n",
      " [-6.12835791e-05]\n",
      " [ 1.07661787e-01]\n",
      " [-2.38605667e-02]\n",
      " [ 4.94161734e-02]\n",
      " [-1.94764882e-02]\n",
      " [-1.13346282e-02]\n",
      " [-4.32757713e-02]\n",
      " [-2.63657544e-02]\n",
      " [ 7.76742797e-03]\n",
      " [-4.73467013e-02]\n",
      " [-1.88501913e-02]\n",
      " [ 4.63594335e-03]\n",
      " [-9.61978613e-02]\n",
      " [-4.35889198e-02]\n",
      " [-3.76390990e-02]\n",
      " [-9.58847129e-02]\n",
      " [-7.57684666e-03]\n",
      " [-5.36096705e-02]\n",
      " [-1.29003705e-02]\n",
      " [-8.99348921e-02]\n",
      " [-4.89124436e-02]\n",
      " [-4.13221358e-03]\n",
      " [-2.85577936e-02]\n",
      " [-4.29626228e-02]\n",
      " [ 7.54074957e-02]\n",
      " [ 6.20168566e-03]\n",
      " [ 7.32154565e-02]\n",
      " [-7.27117267e-02]\n",
      " [-2.35474182e-02]\n",
      " [-1.00820344e-02]\n",
      " [ 4.63594335e-03]\n",
      " [ 1.50445873e-03]\n",
      " [-4.76598498e-02]\n",
      " [-7.42774690e-02]\n",
      " [ 5.88853719e-03]\n",
      " [ 6.20168566e-03]\n",
      " [-3.73259505e-02]\n",
      " [-2.91840905e-02]\n",
      " [ 4.47189465e-02]\n",
      " [ 2.21722572e-02]\n",
      " [ 1.77881787e-02]\n",
      " [-2.26079728e-02]\n",
      " [-3.04366844e-02]\n",
      " [-1.04339721e-01]\n",
      " [-5.79937490e-02]\n",
      " [ 4.84767280e-02]\n",
      " [-7.86615475e-02]\n",
      " [-2.73051998e-02]\n",
      " [-1.38398159e-02]\n",
      " [ 4.34663526e-02]\n",
      " [-5.98726398e-02]\n",
      " [ 1.49698426e-02]\n",
      " [ 1.21515064e-02]\n",
      " [ 8.39372489e-03]\n",
      " [-2.41737151e-02]\n",
      " [-6.14383821e-02]\n",
      " [-9.14258897e-03]\n",
      " [ 2.62431872e-02]\n",
      " [ 4.87898765e-02]\n",
      " [ 5.31739549e-02]\n",
      " [ 1.71618818e-02]\n",
      " [-1.00072896e-03]\n",
      " [-1.06844909e-01]\n",
      " [-2.76183482e-02]\n",
      " [-6.83276482e-02]\n",
      " [ 1.99802180e-02]\n",
      " [ 5.34871034e-02]\n",
      " [ 2.84352264e-02]\n",
      " [ 1.71618818e-02]\n",
      " [-5.29833736e-02]\n",
      " [-3.01235359e-02]\n",
      " [-1.00072896e-03]\n",
      " [-1.50924097e-02]\n",
      " [ 1.62224364e-02]\n",
      " [-3.70128021e-02]\n",
      " [-1.60318551e-02]\n",
      " [-4.51546621e-02]\n",
      " [ 6.47604480e-02]\n",
      " [-2.07290821e-02]\n",
      " [-1.54055582e-02]\n",
      " [-1.35266674e-02]\n",
      " [-2.88709421e-02]\n",
      " [-1.22740736e-02]\n",
      " [ 4.25269072e-02]\n",
      " [-1.38398159e-02]\n",
      " [ 3.75165318e-02]\n",
      " [ 4.44057980e-02]\n",
      " [-3.74432041e-04]\n",
      " [ 2.49905934e-02]\n",
      " [ 7.07102688e-02]\n",
      " [-1.72844490e-02]\n",
      " [-2.16685274e-02]\n",
      " [-3.48207628e-02]\n",
      " [ 4.06480165e-02]\n",
      " [-5.58017098e-02]\n",
      " [ 3.75165318e-02]\n",
      " [-4.01442867e-02]\n",
      " [ 1.02726157e-02]\n",
      " [ 1.96670695e-02]\n",
      " [ 2.02933664e-02]\n",
      " [-3.29418721e-02]\n",
      " [ 4.94161734e-02]\n",
      " [ 2.06065149e-02]\n",
      " [ 3.15667111e-02]\n",
      " [ 4.00217195e-02]\n",
      " [-4.29626228e-02]\n",
      " [-1.85370428e-02]\n",
      " [ 2.15459603e-02]\n",
      " [ 6.41341511e-02]\n",
      " [ 1.98787990e-01]\n",
      " [-3.88916928e-02]\n",
      " [-6.36304213e-02]\n",
      " [-5.45491159e-02]\n",
      " [ 1.37172487e-02]\n",
      " [-5.07165897e-03]\n",
      " [ 1.05857641e-02]\n",
      " [-4.75851051e-03]\n",
      " [-1.07083313e-02]\n",
      " [ 4.78504311e-02]\n",
      " [-7.17722813e-02]\n",
      " [ 2.51864883e-04]\n",
      " [-4.29626228e-02]\n",
      " [-6.80144998e-02]\n",
      " [-1.63450036e-02]\n",
      " [-3.38813175e-02]\n",
      " [-4.89124436e-02]\n",
      " [-1.31387743e-03]\n",
      " [ 5.72448849e-02]\n",
      " [ 4.44057980e-02]\n",
      " [ 6.82798258e-03]\n",
      " [ 5.06687672e-02]\n",
      " [-3.26287236e-02]\n",
      " [ 3.15667111e-02]\n",
      " [ 2.34248511e-02]\n",
      " [ 4.81635795e-02]\n",
      " [-2.04159336e-02]\n",
      " [-1.44661128e-02]\n",
      " [-2.38605667e-02]\n",
      " [ 6.69524872e-02]\n",
      " [ 1.62224364e-02]\n",
      " [ 2.62431872e-02]\n",
      " [ 8.63676919e-02]\n",
      " [-3.57602082e-02]\n",
      " [ 4.28400557e-02]\n",
      " [ 1.68487334e-02]\n",
      " [ 7.14113104e-03]\n",
      " [-1.32135190e-02]\n",
      " [ 1.31461070e-01]\n",
      " [-1.13346282e-02]\n",
      " [ 5.57538873e-03]\n",
      " [-1.35266674e-02]\n",
      " [-4.32757713e-02]\n",
      " [-7.08328359e-02]\n",
      " [ 1.50445873e-03]\n",
      " [ 6.31947057e-02]\n",
      " [-1.60318551e-02]\n",
      " [-1.50924097e-02]\n",
      " [-5.98726398e-02]\n",
      " [ 1.59092880e-02]\n",
      " [-6.64487575e-02]\n",
      " [-9.46321190e-02]\n",
      " [-2.63657544e-02]\n",
      " [ 2.59300387e-02]\n",
      " [ 1.84144757e-02]\n",
      " [ 1.62224364e-02]\n",
      " [ 4.12743134e-02]\n",
      " [ 5.88853719e-03]\n",
      " [ 5.00424703e-02]\n",
      " [ 8.91860280e-02]\n",
      " [-1.62702589e-03]\n",
      " [-2.60526059e-02]\n",
      " [-2.48000121e-02]\n",
      " [ 5.75580334e-02]\n",
      " [-8.21061806e-02]\n",
      " [ 7.07102688e-02]\n",
      " [ 3.07020104e-03]\n",
      " [-5.07165897e-03]\n",
      " [-7.61563598e-02]\n",
      " [ 2.12328118e-02]\n",
      " [ 8.38625042e-02]\n",
      " [-4.95387405e-02]\n",
      " [ 4.84767280e-02]\n",
      " [ 3.62639380e-02]\n",
      " [ 1.34041003e-02]\n",
      " [-3.38813175e-02]\n",
      " [-1.57187067e-02]\n",
      " [ 4.91030249e-02]\n",
      " [-7.88999512e-03]\n",
      " [ 9.10649188e-02]\n",
      " [ 5.66185880e-02]\n",
      " [-7.26369820e-03]\n",
      " [-4.70335528e-02]\n",
      " [ 3.84559772e-02]\n",
      " [-1.38398159e-02]\n",
      " [ 3.78296803e-02]\n",
      " [-1.66581521e-02]\n",
      " [ 4.72241342e-02]\n",
      " [-1.66581521e-02]\n",
      " [ 3.12535626e-02]\n",
      " [-1.00072896e-03]\n",
      " [-8.11667352e-02]\n",
      " [-3.20024267e-02]\n",
      " [ 7.41549019e-02]\n",
      " [ 3.68902349e-02]\n",
      " [ 1.43435457e-02]\n",
      " [-7.42774690e-02]\n",
      " [-3.32550205e-02]\n",
      " [ 8.78161806e-04]\n",
      " [-4.76598498e-02]\n",
      " [-6.01857882e-02]\n",
      " [-4.13968805e-02]\n",
      " [-4.35889198e-02]\n",
      " [-2.48000121e-02]\n",
      " [-1.57187067e-02]\n",
      " [ 8.08057643e-03]\n",
      " [-6.87580503e-04]\n",
      " [ 1.55886650e-01]\n",
      " [ 8.70687335e-03]\n",
      " [ 5.72448849e-02]\n",
      " [-3.45076144e-02]\n",
      " [-2.41737151e-02]\n",
      " [-3.45076144e-02]\n",
      " [ 7.07102688e-02]\n",
      " [-1.00072896e-03]\n",
      " [-7.57684666e-03]\n",
      " [ 3.87691257e-02]\n",
      " [-2.25332281e-03]\n",
      " [ 2.74957811e-02]\n",
      " [-6.77013513e-02]\n",
      " [-1.60318551e-02]\n",
      " [-4.89124436e-02]\n",
      " [-5.86200459e-02]\n",
      " [ 5.09819157e-02]\n",
      " [-1.85370428e-02]\n",
      " [ 1.28016437e-01]\n",
      " [ 2.93746718e-02]\n",
      " [-3.92048413e-02]\n",
      " [ 4.87898765e-02]\n",
      " [ 5.28608065e-02]\n",
      " [ 5.66185880e-02]\n",
      " [-1.22740736e-02]\n",
      " [-1.94764882e-02]\n",
      " [-1.97896367e-02]\n",
      " [-2.35474182e-02]\n",
      " [ 5.28608065e-02]\n",
      " [ 1.29343776e-02]\n",
      " [-3.13761298e-02]\n",
      " [-2.57394574e-02]\n",
      " [ 1.74750303e-02]\n",
      " [-3.26287236e-02]\n",
      " [-9.76888589e-03]\n",
      " [-2.87961974e-03]\n",
      " [-3.66996536e-02]\n",
      " [ 7.94784257e-02]\n",
      " [ 3.75165318e-02]\n",
      " [-1.03951828e-02]\n",
      " [-4.73467013e-02]\n",
      " [-2.10422305e-02]\n",
      " [-6.64487575e-02]\n",
      " [ 3.28193049e-02]\n",
      " [-3.19276820e-03]\n",
      " [-1.54055582e-02]\n",
      " [ 9.16912157e-02]\n",
      " [-7.80352506e-02]\n",
      " [ 1.96670695e-02]\n",
      " [-2.63657544e-02]\n",
      " [ 1.05857641e-02]\n",
      " [-3.04366844e-02]\n",
      " [ 1.02964560e-01]\n",
      " [-3.63865051e-02]\n",
      " [-4.51546621e-02]\n",
      " [ 2.12328118e-02]\n",
      " [-8.64902590e-02]\n",
      " [ 1.25198101e-01]\n",
      " [ 5.63054395e-02]\n",
      " [ 5.31739549e-02]\n",
      " [ 1.68487334e-02]\n",
      " [ 4.28400557e-02]\n",
      " [-6.86407967e-02]\n",
      " [ 4.25269072e-02]\n",
      " [ 1.77881787e-02]\n",
      " [-1.29003705e-02]\n",
      " [-2.44868636e-02]\n",
      " [-2.44868636e-02]\n",
      " [-7.55300629e-02]\n",
      " [-2.19816759e-02]\n",
      " [-1.35266674e-02]\n",
      " [ 3.00009688e-02]\n",
      " [ 2.71826326e-02]\n",
      " [ 2.02933664e-02]\n",
      " [ 1.16429944e-01]\n",
      " [ 1.62224364e-02]\n",
      " [-2.48000121e-02]\n",
      " [ 3.56376411e-02]\n",
      " [-8.14798836e-02]\n",
      " [ 7.00839719e-02]\n",
      " [ 1.49698426e-02]\n",
      " [ 6.06895180e-02]\n",
      " [-1.41529644e-02]\n",
      " [ 1.96670695e-02]\n",
      " [-1.00072896e-03]\n",
      " [ 2.06065149e-02]\n",
      " [-2.13553790e-02]\n",
      " [ 7.41549019e-02]\n",
      " [ 8.70687335e-03]\n",
      " [-5.45491159e-02]\n",
      " [ 9.20043642e-02]\n",
      " [ 3.65770865e-02]\n",
      " [-3.60733567e-02]\n",
      " [-4.44536204e-03]\n",
      " [ 7.79126834e-02]\n",
      " [ 5.66185880e-02]\n",
      " [ 1.19131027e-03]\n",
      " [ 2.49905934e-02]\n",
      " [-2.32342698e-02]\n",
      " [-2.91840905e-02]\n",
      " [ 3.68902349e-02]\n",
      " [-4.64072559e-02]\n",
      " [-1.13346282e-02]\n",
      " [-1.62702589e-03]\n",
      " [-5.76806005e-02]\n",
      " [-6.63740128e-03]\n",
      " [ 8.94991765e-02]\n",
      " [ 7.14113104e-03]\n",
      " [ 2.40511480e-02]\n",
      " [ 5.66185880e-02]\n",
      " [-3.81906512e-03]\n",
      " [ 1.19131027e-03]\n",
      " [ 1.81013272e-02]\n",
      " [ 8.70687335e-03]\n",
      " [ 6.44472995e-02]\n",
      " [ 5.78711819e-02]\n",
      " [ 1.27390140e-01]\n",
      " [-1.25872221e-02]\n",
      " [-2.94972390e-02]\n",
      " [-4.70335528e-02]\n",
      " [-1.75975974e-02]\n",
      " [-6.95802421e-02]\n",
      " [-9.71373067e-02]\n",
      " [-3.19276820e-03]\n",
      " [ 8.88728796e-02]\n",
      " [-2.16685274e-02]\n",
      " [ 1.62224364e-02]\n",
      " [-3.01235359e-02]\n",
      " [-3.41944659e-02]\n",
      " [ 1.74750303e-02]\n",
      " [-1.32135190e-02]\n",
      " [-4.82861467e-02]\n",
      " [-2.66789028e-02]\n",
      " [-2.82446451e-02]\n",
      " [ 4.94909181e-03]\n",
      " [ 5.26224027e-03]\n",
      " [ 3.18798595e-02]\n",
      " [ 3.37587503e-02]\n",
      " [-1.00820344e-02]\n",
      " [-3.81906512e-03]\n",
      " [-1.25872221e-02]\n",
      " [-1.91633397e-02]\n",
      " [ 1.27778034e-02]\n",
      " [-5.70543036e-02]\n",
      " [-7.05196875e-02]\n",
      " [ 2.24854057e-02]\n",
      " [ 1.30208477e-01]\n",
      " [ 4.47189465e-02]\n",
      " [ 1.08989126e-02]\n",
      " [-1.15613066e-01]\n",
      " [-4.42152167e-02]\n",
      " [-2.57394574e-02]\n",
      " [-7.27117267e-02]\n",
      " [-2.88709421e-02]\n",
      " [ 8.69939888e-02]\n",
      " [-6.11252336e-02]\n",
      " [-1.75975974e-02]\n",
      " [-1.72844490e-02]\n",
      " [-5.07165897e-03]\n",
      " [-1.66581521e-02]\n",
      " [-2.32342698e-02]\n",
      " [-5.04781859e-02]\n",
      " [ 3.65770865e-02]\n",
      " [-2.32342698e-02]\n",
      " [-5.45491159e-02]\n",
      " [-2.16685274e-02]\n",
      " [-5.42359675e-02]\n",
      " [-5.83068975e-02]\n",
      " [ 3.21930080e-02]\n",
      " [ 1.18383580e-02]\n",
      " [-3.54470598e-02]\n",
      " [-5.39228190e-02]\n",
      " [ 2.02933664e-02]\n",
      " [-2.38605667e-02]\n",
      " [-2.79314967e-02]\n",
      " [-1.00895088e-01]\n",
      " [-3.70128021e-02]\n",
      " [ 3.97085711e-02]\n",
      " [ 1.93539211e-02]\n",
      " [ 7.29023080e-02]\n",
      " [ 3.72033834e-02]\n",
      " [-7.23985783e-02]\n",
      " [ 1.30909518e-02]\n",
      " [ 7.14113104e-03]\n",
      " [ 1.17056241e-01]\n",
      " [ 4.72241342e-02]\n",
      " [ 1.81013272e-02]\n",
      " [-1.31387743e-03]\n",
      " [ 9.41964034e-02]\n",
      " [-5.73674521e-02]\n",
      " [ 3.46981957e-02]\n",
      " [ 4.50320949e-02]\n",
      " [ 6.44472995e-02]\n",
      " [ 7.35286049e-02]\n",
      " [-3.81906512e-03]\n",
      " [-1.12794730e-01]\n",
      " [ 6.88313780e-02]\n",
      " [-6.26909759e-02]\n",
      " [ 2.15459603e-02]\n",
      " [ 4.15874618e-02]\n",
      " [ 4.53452434e-02]\n",
      " [-4.70335528e-02]\n",
      " [ 4.47189465e-02]\n",
      " [ 1.99802180e-02]\n",
      " [ 1.08989126e-02]\n",
      " [ 4.63594335e-03]\n",
      " [-4.70335528e-02]\n",
      " [-2.56647127e-03]\n",
      " [ 7.91652773e-02]\n",
      " [-1.38398159e-02]\n",
      " [ 1.52829910e-02]\n",
      " [ 2.78089295e-02]]\n"
     ]
    }
   ],
   "source": [
    "#FEATURE LDL\n",
    "\n",
    "import sklearn.datasets\n",
    "import numpy as np\n",
    "\n",
    "diabetes = sklearn.datasets.load_diabetes()\n",
    "print(diabetes.DESCR)\n",
    "x = diabetes.data\n",
    "y = diabetes.target\n",
    "z=[]\n",
    "for counter in x: \n",
    "    z.append(counter[5])\n",
    "np_array = np.array(z)\n",
    "np_array2= np_array.reshape(-1, 1)\n",
    "print(np_array2)"
   ]
  },
  {
   "cell_type": "code",
   "execution_count": 24,
   "id": "b182a3b9-b655-4e95-809b-1b271198bbef",
   "metadata": {},
   "outputs": [
    {
     "data": {
      "text/plain": [
       "[<matplotlib.lines.Line2D at 0x7f0c76c3b8b0>]"
      ]
     },
     "execution_count": 24,
     "metadata": {},
     "output_type": "execute_result"
    },
    {
     "data": {
      "image/png": "[encoded data removed]",
      "text/plain": [
       "<Figure size 432x288 with 1 Axes>"
      ]
     },
     "metadata": {
      "needs_background": "light"
     },
     "output_type": "display_data"
    }
   ],
   "source": [
    "import matplotlib.pyplot as plt\n",
    "plt.plot(z,y, \"ro\")"
   ]
  },
  {
   "cell_type": "code",
   "execution_count": 25,
   "id": "9ad77f5c-be7c-4bd3-881a-0dd04fae5624",
   "metadata": {},
   "outputs": [
    {
     "data": {
      "text/plain": [
       "[<matplotlib.lines.Line2D at 0x7f0c76b9cdc0>]"
      ]
     },
     "execution_count": 25,
     "metadata": {},
     "output_type": "execute_result"
    },
    {
     "data": {
      "image/png": "[encoded data removed]",
      "text/plain": [
       "<Figure size 432x288 with 1 Axes>"
      ]
     },
     "metadata": {
      "needs_background": "light"
     },
     "output_type": "display_data"
    }
   ],
   "source": [
    "y = (diabetes.target > 150)\n",
    "plt.plot(np_array,y, \"ro\")"
   ]
  },
  {
   "cell_type": "code",
   "execution_count": 26,
   "id": "a6e27c66-8436-4665-b3d7-03d21baa1129",
   "metadata": {},
   "outputs": [
    {
     "data": {
      "image/png": "[encoded data removed]",
      "text/plain": [
       "<Figure size 432x288 with 1 Axes>"
      ]
     },
     "metadata": {
      "needs_background": "light"
     },
     "output_type": "display_data"
    },
    {
     "data": {
      "text/plain": [
       "0.5452488687782805"
      ]
     },
     "execution_count": 26,
     "metadata": {},
     "output_type": "execute_result"
    }
   ],
   "source": [
    "import sklearn.linear_model\n",
    "model = sklearn.linear_model.LogisticRegression()\n",
    "\n",
    "#Train the Data\n",
    "model.fit(np_array2,y)\n",
    "\n",
    "# Make a prediction\n",
    "x_test = [[25000]]\n",
    "model.predict(x_test)\n",
    "\n",
    "# Visualize what the predictions are for this model\n",
    "x_new = np.linspace(-0.1,0.2)\n",
    "x_new = x_new.reshape(-1,1)\n",
    "y_pred = model.predict(x_new)\n",
    "plt.plot(x_new, y_pred)\n",
    "plt.plot(np_array2,y, \"ro\")\n",
    "plt.show()\n",
    "\n",
    "model.score(np_array2, y)"
   ]
  },
  {
   "cell_type": "markdown",
   "id": "f5ba469e-1a36-4ddb-8b36-33682768cd83",
   "metadata": {},
   "source": [
    "Compare this with a scatter plot of y vs x for your training data\n",
    "Compare it also with a scatter plot of y vs x for your test data"
   ]
  },
  {
   "cell_type": "code",
   "execution_count": 27,
   "id": "99711fe7-5566-4a11-a2fb-a3dcb8b85570",
   "metadata": {},
   "outputs": [],
   "source": [
    "import sklearn.model_selection\n",
    "x_train, x_test, y_train, y_test = sklearn.model_selection.train_test_split(\n",
    "    np_array2, y, test_size=0.2, random_state=42)\n",
    "\n",
    "x_train.shape\n",
    "x_test.shape\n",
    "x_test = x_test.reshape(-1,1)\n",
    "x_train = x_train.reshape(-1,1)"
   ]
  },
  {
   "cell_type": "code",
   "execution_count": 28,
   "id": "0543800a-6bb3-4ba9-9cbb-9ed3511db5f0",
   "metadata": {},
   "outputs": [
    {
     "data": {
      "text/plain": [
       "[<matplotlib.lines.Line2D at 0x7f0c76b24250>]"
      ]
     },
     "execution_count": 28,
     "metadata": {},
     "output_type": "execute_result"
    },
    {
     "data": {
      "image/png": "[encoded data removed]",
      "text/plain": [
       "<Figure size 432x288 with 1 Axes>"
      ]
     },
     "metadata": {
      "needs_background": "light"
     },
     "output_type": "display_data"
    }
   ],
   "source": [
    "# Visualize what the predictions are for the train model\n",
    "\n",
    "plt.plot(x_train,y_train,'bo')"
   ]
  },
  {
   "cell_type": "code",
   "execution_count": 29,
   "id": "f2324254-e12c-4258-9141-9532856de262",
   "metadata": {},
   "outputs": [
    {
     "data": {
      "text/plain": [
       "[<matplotlib.lines.Line2D at 0x7f0c76e17d00>]"
      ]
     },
     "execution_count": 29,
     "metadata": {},
     "output_type": "execute_result"
    },
    {
     "data": {
      "image/png": "[encoded data removed]",
      "text/plain": [
       "<Figure size 432x288 with 1 Axes>"
      ]
     },
     "metadata": {
      "needs_background": "light"
     },
     "output_type": "display_data"
    }
   ],
   "source": [
    "# Visualize what the predictions are for the test model\n",
    "\n",
    "plt.plot(x_test,y_test,'ko')"
   ]
  },
  {
   "cell_type": "markdown",
   "id": "80d31100-5003-45d2-8815-e777d9e883f3",
   "metadata": {},
   "source": [
    "Similar to above, I find that the trained data is a lot more similar to the predicted model and thus is more accurate compared to the scatter plot generated by our test data.  "
   ]
  },
  {
   "cell_type": "markdown",
   "id": "aab3f40f-f58f-416d-bc4e-7c9fd809aa93",
   "metadata": {},
   "source": [
    "Calculate the confusion matrix, accuracy, precision, and recall of the model on your test data"
   ]
  },
  {
   "cell_type": "code",
   "execution_count": 31,
   "id": "e5bb283f-5b9d-44bd-97ff-ba264f55e00c",
   "metadata": {},
   "outputs": [
    {
     "data": {
      "text/plain": [
       "array([[241,   1],\n",
       "       [200,   0]])"
      ]
     },
     "execution_count": 31,
     "metadata": {},
     "output_type": "execute_result"
    }
   ],
   "source": [
    "from sklearn.metrics import confusion_matrix\n",
    "confusion_matrix(y, model.predict(np_array2))"
   ]
  },
  {
   "cell_type": "code",
   "execution_count": 32,
   "id": "c549d1a6-3584-4a9a-9dfe-f352a5402392",
   "metadata": {},
   "outputs": [
    {
     "data": {
      "text/plain": [
       "0.5452488687782805"
      ]
     },
     "execution_count": 32,
     "metadata": {},
     "output_type": "execute_result"
    }
   ],
   "source": [
    "model.score(np_array2, y)"
   ]
  },
  {
   "cell_type": "markdown",
   "id": "812ea3b7-8c15-499b-9774-9b4b47e36a73",
   "metadata": {},
   "source": [
    "I believe that the logistic regression is doing a decent job as a classifier for this data because it communicates a very clear cut answer of a person's likelihood to have diabetes. However, there are points very close together horizontally which doesn't help a user draw an exact conclusion of the role bmi has in diabetes."
   ]
  }
 ],
 "metadata": {
  "kernelspec": {
   "display_name": "Python 3 (ipykernel)",
   "language": "python",
   "name": "python3"
  },
  "language_info": {
   "codemirror_mode": {
    "name": "ipython",
    "version": 3
   },
   "file_extension": ".py",
   "mimetype": "text/x-python",
   "name": "python",
   "nbconvert_exporter": "python",
   "pygments_lexer": "ipython3",
   "version": "3.9.6"
  }
 },
 "nbformat": 4,
 "nbformat_minor": 5
}
