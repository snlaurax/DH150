{
 "cells": [
  {
   "cell_type": "markdown",
   "id": "a1824687-c04a-40cd-bf2f-e666d73811f1",
   "metadata": {},
   "source": [
    "# Assignment 5: Special Preliminary Assignment for Final Project"
   ]
  },
  {
   "cell_type": "markdown",
   "id": "647f009e-99b9-4e52-a023-47eff149e51f",
   "metadata": {},
   "source": [
    "### Choose a preliminary dataset: \n",
    "Dow Jones Index Data Set \n",
    "\n",
    "https://archive.ics.uci.edu/ml/datasets/default+of+credit+card+clients"
   ]
  },
  {
   "cell_type": "markdown",
   "id": "e6e92732-d978-4dff-89dd-802b65e47201",
   "metadata": {},
   "source": [
    "###  Import your data in the notebook"
   ]
  },
  {
   "cell_type": "code",
   "execution_count": 6,
   "id": "6708c567-556b-4dec-9ef8-92345672500d",
   "metadata": {},
   "outputs": [],
   "source": [
    "import pandas as pd\n",
    "df = pd.read_csv('dow.data')"
   ]
  },
  {
   "cell_type": "code",
   "execution_count": 7,
   "id": "01e2040d-0e26-4efe-bafa-c860ee85ca77",
   "metadata": {},
   "outputs": [
    {
     "data": {
      "text/html": [
       "<div>\n",
       "<style scoped>\n",
       "    .dataframe tbody tr th:only-of-type {\n",
       "        vertical-align: middle;\n",
       "    }\n",
       "\n",
       "    .dataframe tbody tr th {\n",
       "        vertical-align: top;\n",
       "    }\n",
       "\n",
       "    .dataframe thead th {\n",
       "        text-align: right;\n",
       "    }\n",
       "</style>\n",
       "<table border=\"1\" class=\"dataframe\">\n",
       "  <thead>\n",
       "    <tr style=\"text-align: right;\">\n",
       "      <th></th>\n",
       "      <th>quarter</th>\n",
       "      <th>stock</th>\n",
       "      <th>date</th>\n",
       "      <th>open</th>\n",
       "      <th>high</th>\n",
       "      <th>low</th>\n",
       "      <th>close</th>\n",
       "      <th>volume</th>\n",
       "      <th>percent_change_price</th>\n",
       "      <th>percent_change_volume_over_last_wk</th>\n",
       "      <th>previous_weeks_volume</th>\n",
       "      <th>next_weeks_open</th>\n",
       "      <th>next_weeks_close</th>\n",
       "      <th>percent_change_next_weeks_price</th>\n",
       "      <th>days_to_next_dividend</th>\n",
       "      <th>percent_return_next_dividend</th>\n",
       "    </tr>\n",
       "  </thead>\n",
       "  <tbody>\n",
       "    <tr>\n",
       "      <th>0</th>\n",
       "      <td>1</td>\n",
       "      <td>AA</td>\n",
       "      <td>1/7/2011</td>\n",
       "      <td>$15.82</td>\n",
       "      <td>$16.72</td>\n",
       "      <td>$15.78</td>\n",
       "      <td>$16.42</td>\n",
       "      <td>239655616</td>\n",
       "      <td>3.79267</td>\n",
       "      <td>NaN</td>\n",
       "      <td>NaN</td>\n",
       "      <td>$16.71</td>\n",
       "      <td>$15.97</td>\n",
       "      <td>-4.428490</td>\n",
       "      <td>26</td>\n",
       "      <td>0.182704</td>\n",
       "    </tr>\n",
       "    <tr>\n",
       "      <th>1</th>\n",
       "      <td>1</td>\n",
       "      <td>AA</td>\n",
       "      <td>1/14/2011</td>\n",
       "      <td>$16.71</td>\n",
       "      <td>$16.71</td>\n",
       "      <td>$15.64</td>\n",
       "      <td>$15.97</td>\n",
       "      <td>242963398</td>\n",
       "      <td>-4.42849</td>\n",
       "      <td>1.380223</td>\n",
       "      <td>239655616.0</td>\n",
       "      <td>$16.19</td>\n",
       "      <td>$15.79</td>\n",
       "      <td>-2.470660</td>\n",
       "      <td>19</td>\n",
       "      <td>0.187852</td>\n",
       "    </tr>\n",
       "    <tr>\n",
       "      <th>2</th>\n",
       "      <td>1</td>\n",
       "      <td>AA</td>\n",
       "      <td>1/21/2011</td>\n",
       "      <td>$16.19</td>\n",
       "      <td>$16.38</td>\n",
       "      <td>$15.60</td>\n",
       "      <td>$15.79</td>\n",
       "      <td>138428495</td>\n",
       "      <td>-2.47066</td>\n",
       "      <td>-43.024959</td>\n",
       "      <td>242963398.0</td>\n",
       "      <td>$15.87</td>\n",
       "      <td>$16.13</td>\n",
       "      <td>1.638310</td>\n",
       "      <td>12</td>\n",
       "      <td>0.189994</td>\n",
       "    </tr>\n",
       "    <tr>\n",
       "      <th>3</th>\n",
       "      <td>1</td>\n",
       "      <td>AA</td>\n",
       "      <td>1/28/2011</td>\n",
       "      <td>$15.87</td>\n",
       "      <td>$16.63</td>\n",
       "      <td>$15.82</td>\n",
       "      <td>$16.13</td>\n",
       "      <td>151379173</td>\n",
       "      <td>1.63831</td>\n",
       "      <td>9.355500</td>\n",
       "      <td>138428495.0</td>\n",
       "      <td>$16.18</td>\n",
       "      <td>$17.14</td>\n",
       "      <td>5.933250</td>\n",
       "      <td>5</td>\n",
       "      <td>0.185989</td>\n",
       "    </tr>\n",
       "    <tr>\n",
       "      <th>4</th>\n",
       "      <td>1</td>\n",
       "      <td>AA</td>\n",
       "      <td>2/4/2011</td>\n",
       "      <td>$16.18</td>\n",
       "      <td>$17.39</td>\n",
       "      <td>$16.18</td>\n",
       "      <td>$17.14</td>\n",
       "      <td>154387761</td>\n",
       "      <td>5.93325</td>\n",
       "      <td>1.987452</td>\n",
       "      <td>151379173.0</td>\n",
       "      <td>$17.33</td>\n",
       "      <td>$17.37</td>\n",
       "      <td>0.230814</td>\n",
       "      <td>97</td>\n",
       "      <td>0.175029</td>\n",
       "    </tr>\n",
       "    <tr>\n",
       "      <th>...</th>\n",
       "      <td>...</td>\n",
       "      <td>...</td>\n",
       "      <td>...</td>\n",
       "      <td>...</td>\n",
       "      <td>...</td>\n",
       "      <td>...</td>\n",
       "      <td>...</td>\n",
       "      <td>...</td>\n",
       "      <td>...</td>\n",
       "      <td>...</td>\n",
       "      <td>...</td>\n",
       "      <td>...</td>\n",
       "      <td>...</td>\n",
       "      <td>...</td>\n",
       "      <td>...</td>\n",
       "      <td>...</td>\n",
       "    </tr>\n",
       "    <tr>\n",
       "      <th>745</th>\n",
       "      <td>2</td>\n",
       "      <td>XOM</td>\n",
       "      <td>5/27/2011</td>\n",
       "      <td>$80.22</td>\n",
       "      <td>$82.63</td>\n",
       "      <td>$80.07</td>\n",
       "      <td>$82.63</td>\n",
       "      <td>68230855</td>\n",
       "      <td>3.00424</td>\n",
       "      <td>-21.355713</td>\n",
       "      <td>86758820.0</td>\n",
       "      <td>$83.28</td>\n",
       "      <td>$81.18</td>\n",
       "      <td>-2.521610</td>\n",
       "      <td>75</td>\n",
       "      <td>0.568801</td>\n",
       "    </tr>\n",
       "    <tr>\n",
       "      <th>746</th>\n",
       "      <td>2</td>\n",
       "      <td>XOM</td>\n",
       "      <td>6/3/2011</td>\n",
       "      <td>$83.28</td>\n",
       "      <td>$83.75</td>\n",
       "      <td>$80.18</td>\n",
       "      <td>$81.18</td>\n",
       "      <td>78616295</td>\n",
       "      <td>-2.52161</td>\n",
       "      <td>15.221032</td>\n",
       "      <td>68230855.0</td>\n",
       "      <td>$80.93</td>\n",
       "      <td>$79.78</td>\n",
       "      <td>-1.420980</td>\n",
       "      <td>68</td>\n",
       "      <td>0.578960</td>\n",
       "    </tr>\n",
       "    <tr>\n",
       "      <th>747</th>\n",
       "      <td>2</td>\n",
       "      <td>XOM</td>\n",
       "      <td>6/10/2011</td>\n",
       "      <td>$80.93</td>\n",
       "      <td>$81.87</td>\n",
       "      <td>$79.72</td>\n",
       "      <td>$79.78</td>\n",
       "      <td>92380844</td>\n",
       "      <td>-1.42098</td>\n",
       "      <td>17.508519</td>\n",
       "      <td>78616295.0</td>\n",
       "      <td>$80.00</td>\n",
       "      <td>$79.02</td>\n",
       "      <td>-1.225000</td>\n",
       "      <td>61</td>\n",
       "      <td>0.589120</td>\n",
       "    </tr>\n",
       "    <tr>\n",
       "      <th>748</th>\n",
       "      <td>2</td>\n",
       "      <td>XOM</td>\n",
       "      <td>6/17/2011</td>\n",
       "      <td>$80.00</td>\n",
       "      <td>$80.82</td>\n",
       "      <td>$78.33</td>\n",
       "      <td>$79.02</td>\n",
       "      <td>100521400</td>\n",
       "      <td>-1.22500</td>\n",
       "      <td>8.811952</td>\n",
       "      <td>92380844.0</td>\n",
       "      <td>$78.65</td>\n",
       "      <td>$76.78</td>\n",
       "      <td>-2.377620</td>\n",
       "      <td>54</td>\n",
       "      <td>0.594786</td>\n",
       "    </tr>\n",
       "    <tr>\n",
       "      <th>749</th>\n",
       "      <td>2</td>\n",
       "      <td>XOM</td>\n",
       "      <td>6/24/2011</td>\n",
       "      <td>$78.65</td>\n",
       "      <td>$81.12</td>\n",
       "      <td>$76.78</td>\n",
       "      <td>$76.78</td>\n",
       "      <td>118679791</td>\n",
       "      <td>-2.37762</td>\n",
       "      <td>18.064204</td>\n",
       "      <td>100521400.0</td>\n",
       "      <td>$76.88</td>\n",
       "      <td>$82.01</td>\n",
       "      <td>6.672740</td>\n",
       "      <td>47</td>\n",
       "      <td>0.612139</td>\n",
       "    </tr>\n",
       "  </tbody>\n",
       "</table>\n",
       "<p>750 rows × 16 columns</p>\n",
       "</div>"
      ],
      "text/plain": [
       "     quarter stock       date    open    high     low   close     volume  \\\n",
       "0          1    AA   1/7/2011  $15.82  $16.72  $15.78  $16.42  239655616   \n",
       "1          1    AA  1/14/2011  $16.71  $16.71  $15.64  $15.97  242963398   \n",
       "2          1    AA  1/21/2011  $16.19  $16.38  $15.60  $15.79  138428495   \n",
       "3          1    AA  1/28/2011  $15.87  $16.63  $15.82  $16.13  151379173   \n",
       "4          1    AA   2/4/2011  $16.18  $17.39  $16.18  $17.14  154387761   \n",
       "..       ...   ...        ...     ...     ...     ...     ...        ...   \n",
       "745        2   XOM  5/27/2011  $80.22  $82.63  $80.07  $82.63   68230855   \n",
       "746        2   XOM   6/3/2011  $83.28  $83.75  $80.18  $81.18   78616295   \n",
       "747        2   XOM  6/10/2011  $80.93  $81.87  $79.72  $79.78   92380844   \n",
       "748        2   XOM  6/17/2011  $80.00  $80.82  $78.33  $79.02  100521400   \n",
       "749        2   XOM  6/24/2011  $78.65  $81.12  $76.78  $76.78  118679791   \n",
       "\n",
       "     percent_change_price  percent_change_volume_over_last_wk  \\\n",
       "0                 3.79267                                 NaN   \n",
       "1                -4.42849                            1.380223   \n",
       "2                -2.47066                          -43.024959   \n",
       "3                 1.63831                            9.355500   \n",
       "4                 5.93325                            1.987452   \n",
       "..                    ...                                 ...   \n",
       "745               3.00424                          -21.355713   \n",
       "746              -2.52161                           15.221032   \n",
       "747              -1.42098                           17.508519   \n",
       "748              -1.22500                            8.811952   \n",
       "749              -2.37762                           18.064204   \n",
       "\n",
       "     previous_weeks_volume next_weeks_open next_weeks_close  \\\n",
       "0                      NaN          $16.71           $15.97   \n",
       "1              239655616.0          $16.19           $15.79   \n",
       "2              242963398.0          $15.87           $16.13   \n",
       "3              138428495.0          $16.18           $17.14   \n",
       "4              151379173.0          $17.33           $17.37   \n",
       "..                     ...             ...              ...   \n",
       "745             86758820.0          $83.28           $81.18   \n",
       "746             68230855.0          $80.93           $79.78   \n",
       "747             78616295.0          $80.00           $79.02   \n",
       "748             92380844.0          $78.65           $76.78   \n",
       "749            100521400.0          $76.88           $82.01   \n",
       "\n",
       "     percent_change_next_weeks_price  days_to_next_dividend  \\\n",
       "0                          -4.428490                     26   \n",
       "1                          -2.470660                     19   \n",
       "2                           1.638310                     12   \n",
       "3                           5.933250                      5   \n",
       "4                           0.230814                     97   \n",
       "..                               ...                    ...   \n",
       "745                        -2.521610                     75   \n",
       "746                        -1.420980                     68   \n",
       "747                        -1.225000                     61   \n",
       "748                        -2.377620                     54   \n",
       "749                         6.672740                     47   \n",
       "\n",
       "     percent_return_next_dividend  \n",
       "0                        0.182704  \n",
       "1                        0.187852  \n",
       "2                        0.189994  \n",
       "3                        0.185989  \n",
       "4                        0.175029  \n",
       "..                            ...  \n",
       "745                      0.568801  \n",
       "746                      0.578960  \n",
       "747                      0.589120  \n",
       "748                      0.594786  \n",
       "749                      0.612139  \n",
       "\n",
       "[750 rows x 16 columns]"
      ]
     },
     "execution_count": 7,
     "metadata": {},
     "output_type": "execute_result"
    }
   ],
   "source": [
    "df"
   ]
  },
  {
   "cell_type": "markdown",
   "id": "f647ca5f-2dd7-4d8b-92d2-608d8900f233",
   "metadata": {},
   "source": [
    "### Explore the data with data visualizations"
   ]
  },
  {
   "cell_type": "code",
   "execution_count": 8,
   "id": "907b4087-041a-4e7a-b40d-1cf216edd8a2",
   "metadata": {},
   "outputs": [
    {
     "data": {
      "image/png": "[encoded data removed]",
      "text/plain": [
       "<Figure size 2160x360 with 1 Axes>"
      ]
     },
     "metadata": {
      "needs_background": "light"
     },
     "output_type": "display_data"
    }
   ],
   "source": [
    "df.plot.scatter(x='date', y='volume', figsize=(30, 5));"
   ]
  },
  {
   "cell_type": "code",
   "execution_count": 9,
   "id": "733aec2f-6b0a-4252-a948-15ead379aeca",
   "metadata": {},
   "outputs": [
    {
     "data": {
      "image/png": "[encoded data removed]",
      "text/plain": [
       "<Figure size 2160x360 with 1 Axes>"
      ]
     },
     "metadata": {
      "needs_background": "light"
     },
     "output_type": "display_data"
    }
   ],
   "source": [
    "df.plot.scatter(x='date', y='percent_change_price', figsize=(30, 5));"
   ]
  },
  {
   "cell_type": "markdown",
   "id": "d28f160d-3806-4f5e-9eb2-506f0a8d137f",
   "metadata": {},
   "source": [
    "###  Use the ML workflow to do the \"Default Task\" noted on the dataset webpage (Classification/Clustering)"
   ]
  },
  {
   "cell_type": "markdown",
   "id": "64033f3b-1fa0-44a1-9f83-0d4e840efa59",
   "metadata": {},
   "source": [
    "Split your x and y data into training and test sets\n",
    "\n",
    "Choose one ML model\n",
    "\n",
    "Use cross-validation with your training data to select optimal hyperparameters as appropriate\n",
    "\n",
    "Train your model using your training data\n",
    "\n",
    "Evaluate your model\n",
    "\n",
    "In this case, I chose to do classification"
   ]
  },
  {
   "cell_type": "code",
   "execution_count": 36,
   "id": "81ff4755-97ea-4d7b-8ed4-6b808f5d15df",
   "metadata": {},
   "outputs": [],
   "source": [
    "from sklearn.cluster import KMeans\n",
    "import numpy as np\n",
    "import matplotlib.pyplot as plt"
   ]
  },
  {
   "cell_type": "code",
   "execution_count": 37,
   "id": "cd938012-673f-45c2-9b3c-18b1d2823cee",
   "metadata": {},
   "outputs": [],
   "source": [
    "kmeans = KMeans(n_clusters=9)"
   ]
  },
  {
   "cell_type": "code",
   "execution_count": 38,
   "id": "6f5c6343-3e68-47d1-8fbb-00c57a3d77eb",
   "metadata": {},
   "outputs": [],
   "source": [
    "ourcolors = ['red','blue','black','green','yellow','magenta','orange','brown','grey','aqua']"
   ]
  },
  {
   "cell_type": "code",
   "execution_count": 39,
   "id": "5d056940-06e9-4c71-b70d-5247abce1062",
   "metadata": {},
   "outputs": [
    {
     "name": "stdout",
     "output_type": "stream",
     "text": [
      "(750, 1)\n",
      "(750, 1)\n"
     ]
    }
   ],
   "source": [
    "#get the price movement \n",
    "x = df.percent_change_next_weeks_price\n",
    "x = x.values.reshape(-1,1)\n",
    "print(x.shape)\n",
    "\n",
    "#get the days to the next dividend\n",
    "y = df.days_to_next_dividend\n",
    "y = y.values.reshape(-1,1)\n",
    "print (y.shape)"
   ]
  },
  {
   "cell_type": "code",
   "execution_count": 40,
   "id": "348980f7-8005-40c8-a0f4-cfb404f418d6",
   "metadata": {},
   "outputs": [
    {
     "data": {
      "text/plain": [
       "KMeans(n_clusters=9)"
      ]
     },
     "execution_count": 40,
     "metadata": {},
     "output_type": "execute_result"
    }
   ],
   "source": [
    "kmeans.fit(x)"
   ]
  },
  {
   "cell_type": "code",
   "execution_count": 41,
   "id": "c585f365-5aa5-4853-9b4c-6798e99bd038",
   "metadata": {},
   "outputs": [
    {
     "data": {
      "text/plain": [
       "array([5, 7, 1, 2, 8, 3, 0, 0, 7, 8, 6, 1, 6, 3, 5, 3, 2, 0, 7, 3, 8, 8,\n",
       "       1, 3, 8, 8, 7, 6, 8, 8, 3, 3, 3, 7, 6, 8, 2, 5, 5, 6, 1, 3, 0, 0,\n",
       "       1, 0, 5, 3, 8, 0, 6, 6, 6, 1, 7, 8, 7, 1, 1, 6, 1, 7, 8, 2, 4, 3,\n",
       "       3, 0, 0, 7, 3, 0, 1, 8, 3, 6, 3, 6, 6, 1, 5, 6, 6, 1, 6, 7, 6, 6,\n",
       "       6, 6, 0, 3, 0, 3, 8, 1, 8, 1, 0, 6, 2, 8, 8, 8, 0, 7, 6, 3, 8, 6,\n",
       "       1, 1, 6, 3, 3, 7, 3, 7, 8, 6, 2, 1, 8, 3, 1, 6, 5, 8, 3, 7, 6, 8,\n",
       "       6, 1, 7, 6, 1, 8, 4, 0, 7, 3, 1, 7, 1, 6, 1, 6, 3, 8, 3, 3, 8, 7,\n",
       "       6, 1, 1, 0, 1, 8, 3, 1, 3, 3, 7, 7, 1, 7, 8, 8, 5, 8, 3, 8, 0, 1,\n",
       "       7, 0, 8, 8, 6, 8, 0, 8, 6, 6, 0, 7, 8, 8, 3, 8, 1, 3, 7, 1, 0, 8,\n",
       "       6, 3, 8, 0, 1, 8, 8, 3, 0, 8, 1, 1, 1, 1, 3, 7, 6, 6, 3, 8, 0, 8,\n",
       "       6, 3, 0, 1, 8, 5, 1, 8, 6, 1, 0, 8, 6, 1, 7, 8, 0, 7, 1, 8, 4, 3,\n",
       "       7, 0, 8, 3, 0, 6, 3, 0, 1, 1, 8, 3, 0, 3, 0, 3, 3, 7, 0, 7, 1, 3,\n",
       "       8, 3, 0, 2, 0, 1, 3, 6, 3, 6, 8, 3, 1, 8, 7, 0, 8, 3, 0, 0, 3, 3,\n",
       "       3, 1, 3, 3, 7, 1, 1, 8, 3, 0, 1, 0, 8, 2, 6, 8, 8, 6, 6, 6, 0, 3,\n",
       "       3, 3, 8, 8, 8, 8, 1, 8, 6, 3, 0, 3, 0, 3, 6, 1, 7, 0, 1, 1, 8, 8,\n",
       "       3, 3, 3, 8, 1, 6, 1, 8, 1, 3, 3, 8, 7, 8, 8, 0, 8, 3, 6, 1, 8, 6,\n",
       "       3, 6, 8, 3, 5, 0, 1, 8, 6, 4, 6, 8, 3, 3, 5, 6, 5, 5, 7, 6, 2, 1,\n",
       "       3, 6, 6, 1, 0, 6, 8, 5, 7, 8, 3, 2, 3, 0, 6, 2, 0, 3, 0, 8, 7, 7,\n",
       "       1, 7, 6, 8, 5, 0, 3, 3, 7, 7, 1, 5, 7, 0, 3, 2, 7, 7, 6, 2, 5, 5,\n",
       "       0, 6, 5, 7, 0, 6, 2, 6, 7, 8, 6, 8, 7, 0, 8, 7, 5, 0, 3, 2, 8, 7,\n",
       "       6, 1, 5, 3, 8, 1, 7, 0, 3, 0, 2, 3, 0, 6, 1, 7, 7, 3, 1, 5, 0, 3,\n",
       "       2, 2, 7, 3, 6, 1, 3, 5, 8, 8, 5, 0, 0, 3, 2, 7, 0, 8, 1, 7, 3, 0,\n",
       "       8, 5, 0, 8, 0, 2, 3, 1, 8, 0, 0, 8, 8, 3, 5, 7, 6, 1, 2, 3, 0, 1,\n",
       "       0, 8, 3, 4, 6, 7, 0, 3, 8, 2, 3, 1, 1, 1, 0, 8, 8, 3, 0, 3, 3, 8,\n",
       "       2, 8, 0, 2, 2, 8, 8, 3, 7, 7, 0, 0, 3, 2, 3, 1, 2, 6, 0, 1, 0, 1,\n",
       "       0, 8, 3, 0, 6, 1, 5, 8, 1, 0, 7, 8, 8, 7, 3, 0, 7, 2, 3, 2, 1, 8,\n",
       "       1, 6, 8, 3, 0, 3, 1, 8, 1, 3, 8, 8, 3, 0, 1, 8, 0, 0, 3, 8, 3, 2,\n",
       "       3, 1, 3, 1, 8, 1, 1, 3, 0, 3, 1, 3, 2, 8, 3, 1, 6, 0, 8, 0, 1, 7,\n",
       "       8, 8, 3, 2, 8, 1, 3, 2, 3, 6, 3, 0, 0, 3, 8, 0, 6, 1, 7, 1, 1, 3,\n",
       "       7, 0, 1, 5, 3, 1, 8, 2, 3, 3, 7, 2, 7, 1, 3, 1, 3, 7, 8, 3, 6, 3,\n",
       "       6, 3, 6, 3, 6, 8, 3, 0, 0, 3, 7, 1, 3, 3, 8, 1, 0, 8, 3, 8, 7, 3,\n",
       "       1, 3, 6, 3, 3, 6, 6, 3, 0, 3, 3, 0, 7, 0, 0, 6, 0, 0, 2, 6, 3, 3,\n",
       "       0, 3, 5, 3, 1, 3, 2, 0, 8, 0, 1, 7, 3, 3, 3, 7, 0, 8, 1, 2, 8, 1,\n",
       "       8, 1, 3, 1, 3, 3, 0, 0, 3, 3, 1, 1, 0, 6, 1, 5, 7, 1, 6, 7, 0, 0,\n",
       "       7, 2], dtype=int32)"
      ]
     },
     "execution_count": 41,
     "metadata": {},
     "output_type": "execute_result"
    }
   ],
   "source": [
    "kmeans.labels_"
   ]
  },
  {
   "cell_type": "code",
   "execution_count": 42,
   "id": "6cb13d14-f98f-4e0b-a435-0746d627068c",
   "metadata": {},
   "outputs": [
    {
     "data": {
      "text/plain": [
       "array([[-4.42849]])"
      ]
     },
     "execution_count": 42,
     "metadata": {},
     "output_type": "execute_result"
    }
   ],
   "source": [
    "x[[0]]"
   ]
  },
  {
   "cell_type": "code",
   "execution_count": 43,
   "id": "9b517ce4-7687-4a49-94f4-5661c2f40458",
   "metadata": {},
   "outputs": [
    {
     "data": {
      "text/plain": [
       "array([5], dtype=int32)"
      ]
     },
     "execution_count": 43,
     "metadata": {},
     "output_type": "execute_result"
    }
   ],
   "source": [
    "kmeans.predict(x[[0]])"
   ]
  },
  {
   "cell_type": "code",
   "execution_count": 44,
   "id": "946b0423-b2b2-492e-ac9b-8afc6d1526c7",
   "metadata": {},
   "outputs": [
    {
     "data": {
      "text/plain": [
       "<matplotlib.collections.PathCollection at 0x7f90318e1370>"
      ]
     },
     "execution_count": 44,
     "metadata": {},
     "output_type": "execute_result"
    },
    {
     "data": {
      "image/png": "[encoded data removed]",
      "text/plain": [
       "<Figure size 432x288 with 1 Axes>"
      ]
     },
     "metadata": {
      "needs_background": "light"
     },
     "output_type": "display_data"
    }
   ],
   "source": [
    "plt.scatter(x,\n",
    "            y,\n",
    "            color=[ourcolors[i] for i in kmeans.labels_])"
   ]
  },
  {
   "cell_type": "code",
   "execution_count": 45,
   "id": "21dfd625-e700-4963-b125-5618fd09ee47",
   "metadata": {},
   "outputs": [
    {
     "name": "stdout",
     "output_type": "stream",
     "text": [
      "196.27100496191187\n"
     ]
    }
   ],
   "source": [
    "print(kmeans.inertia_)"
   ]
  },
  {
   "cell_type": "markdown",
   "id": "f3d8d4b5-6d13-4ec1-a57c-73e5caf3d3b8",
   "metadata": {},
   "source": [
    "The lower the inertia the better. In this case, the inertia is very high. However, I noticed that the inertia would decrease when we increased the number of clusters."
   ]
  },
  {
   "cell_type": "code",
   "execution_count": null,
   "id": "8319ff7f-a56c-45f3-9cef-09990b766f08",
   "metadata": {},
   "outputs": [],
   "source": []
  }
 ],
 "metadata": {
  "kernelspec": {
   "display_name": "Python 3 (ipykernel)",
   "language": "python",
   "name": "python3"
  },
  "language_info": {
   "codemirror_mode": {
    "name": "ipython",
    "version": 3
   },
   "file_extension": ".py",
   "mimetype": "text/x-python",
   "name": "python",
   "nbconvert_exporter": "python",
   "pygments_lexer": "ipython3",
   "version": "3.9.6"
  }
 },
 "nbformat": 4,
 "nbformat_minor": 5
}
