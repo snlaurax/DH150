{
 "cells": [
  {
   "cell_type": "markdown",
   "id": "ea07999e-fa64-4b94-839d-09a25cfbd231",
   "metadata": {},
   "source": [
    "# Assignment 06"
   ]
  },
  {
   "cell_type": "markdown",
   "id": "0fa963de-357c-4d0b-ab16-753d74093996",
   "metadata": {},
   "source": [
    "## Step 2 Sentiment of Trump & Obama Tweets"
   ]
  },
  {
   "cell_type": "code",
   "execution_count": 4,
   "id": "333f2b2e-aa04-4cb7-9de1-4db37fb4bfd4",
   "metadata": {},
   "outputs": [],
   "source": [
    "import pandas as pd\n",
    "with open('realDonaldTrump.csv','rb') as f:\n",
    "    trump_tweets = f.readlines()\n",
    "    for i in range(len(trump_tweets)):\n",
    "        trump_tweets[i] = str(trump_tweets[i], 'ascii', errors='ignore')\n",
    "\n",
    "with open('BarackObama.csv','rb') as f:\n",
    "    obama_tweets = f.readlines()\n",
    "    for i in range(len(obama_tweets)):\n",
    "        obama_tweets[i] = str(obama_tweets[i], 'ascii', errors='ignore')"
   ]
  },
  {
   "cell_type": "markdown",
   "id": "a27997a3-ca2f-4c8a-9e7b-2189c46ca8dd",
   "metadata": {},
   "source": [
    "To each dataframe, add a new column that contains a sentiment polarity score for the tweets (i.e. the strings in the \"text\" columns). Use VADER's SentimentIntensityAnalyzer to get the sentiment scores\n"
   ]
  },
  {
   "cell_type": "code",
   "execution_count": 5,
   "id": "f4550c3a-a776-4783-9a61-37a0da2c0582",
   "metadata": {},
   "outputs": [],
   "source": [
    "from nltk.sentiment import vader\n",
    "sia = vader.SentimentIntensityAnalyzer()\n",
    "def getSentiment(review):\n",
    "    return sia.polarity_scores(review)['compound']"
   ]
  },
  {
   "cell_type": "markdown",
   "id": "a4d9924b-18ad-400a-bf98-d74199859f91",
   "metadata": {},
   "source": [
    "### Obama Tweets "
   ]
  },
  {
   "cell_type": "code",
   "execution_count": 6,
   "id": "a0357c62-d327-4db5-b055-4299aba496ba",
   "metadata": {},
   "outputs": [
    {
     "data": {
      "text/html": [
       "<div>\n",
       "<style scoped>\n",
       "    .dataframe tbody tr th:only-of-type {\n",
       "        vertical-align: middle;\n",
       "    }\n",
       "\n",
       "    .dataframe tbody tr th {\n",
       "        vertical-align: top;\n",
       "    }\n",
       "\n",
       "    .dataframe thead th {\n",
       "        text-align: right;\n",
       "    }\n",
       "</style>\n",
       "<table border=\"1\" class=\"dataframe\">\n",
       "  <thead>\n",
       "    <tr style=\"text-align: right;\">\n",
       "      <th></th>\n",
       "      <th>Review</th>\n",
       "      <th>Polarity</th>\n",
       "    </tr>\n",
       "  </thead>\n",
       "  <tbody>\n",
       "    <tr>\n",
       "      <th>0</th>\n",
       "      <td>created_at,text,url,replies,retweets,favorites...</td>\n",
       "      <td>1</td>\n",
       "    </tr>\n",
       "    <tr>\n",
       "      <th>1</th>\n",
       "      <td>10/16/17 22:59,\"I'm grateful to @SenJohnMcCain...</td>\n",
       "      <td>1</td>\n",
       "    </tr>\n",
       "    <tr>\n",
       "      <th>2</th>\n",
       "      <td>10/2/17 12:41,Michelle &amp;amp; I are praying for...</td>\n",
       "      <td>1</td>\n",
       "    </tr>\n",
       "    <tr>\n",
       "      <th>3</th>\n",
       "      <td>9/30/17 2:22,Proud to cheer on Team USA at the...</td>\n",
       "      <td>1</td>\n",
       "    </tr>\n",
       "    <tr>\n",
       "      <th>4</th>\n",
       "      <td>9/26/17 17:03,\"We're expanding our efforts to ...</td>\n",
       "      <td>1</td>\n",
       "    </tr>\n",
       "  </tbody>\n",
       "</table>\n",
       "</div>"
      ],
      "text/plain": [
       "                                              Review  Polarity\n",
       "0  created_at,text,url,replies,retweets,favorites...         1\n",
       "1  10/16/17 22:59,\"I'm grateful to @SenJohnMcCain...         1\n",
       "2  10/2/17 12:41,Michelle &amp; I are praying for...         1\n",
       "3  9/30/17 2:22,Proud to cheer on Team USA at the...         1\n",
       "4  9/26/17 17:03,\"We're expanding our efforts to ...         1"
      ]
     },
     "execution_count": 6,
     "metadata": {},
     "output_type": "execute_result"
    }
   ],
   "source": [
    "obama = pd.DataFrame({'Review':obama_tweets, 'Polarity':1})\n",
    "obama.head()"
   ]
  },
  {
   "cell_type": "code",
   "execution_count": 7,
   "id": "724a7312-d7b9-43f8-bfba-c2371e8e6566",
   "metadata": {},
   "outputs": [],
   "source": [
    "dobama = pd.concat([obama], ignore_index=True)"
   ]
  },
  {
   "cell_type": "code",
   "execution_count": 8,
   "id": "a496615d-24cd-4f13-9cc2-33f56379a6b5",
   "metadata": {},
   "outputs": [],
   "source": [
    "dobama['ObamaSentiment'] = [getSentiment(review) for review in dobama['Review']]"
   ]
  },
  {
   "cell_type": "code",
   "execution_count": 9,
   "id": "0f41ea3b-e053-422a-8db6-a44515d50fb4",
   "metadata": {},
   "outputs": [
    {
     "data": {
      "text/html": [
       "<div>\n",
       "<style scoped>\n",
       "    .dataframe tbody tr th:only-of-type {\n",
       "        vertical-align: middle;\n",
       "    }\n",
       "\n",
       "    .dataframe tbody tr th {\n",
       "        vertical-align: top;\n",
       "    }\n",
       "\n",
       "    .dataframe thead th {\n",
       "        text-align: right;\n",
       "    }\n",
       "</style>\n",
       "<table border=\"1\" class=\"dataframe\">\n",
       "  <thead>\n",
       "    <tr style=\"text-align: right;\">\n",
       "      <th></th>\n",
       "      <th>Review</th>\n",
       "      <th>Polarity</th>\n",
       "      <th>ObamaSentiment</th>\n",
       "    </tr>\n",
       "  </thead>\n",
       "  <tbody>\n",
       "    <tr>\n",
       "      <th>0</th>\n",
       "      <td>created_at,text,url,replies,retweets,favorites...</td>\n",
       "      <td>1</td>\n",
       "      <td>0.0000</td>\n",
       "    </tr>\n",
       "    <tr>\n",
       "      <th>1</th>\n",
       "      <td>10/16/17 22:59,\"I'm grateful to @SenJohnMcCain...</td>\n",
       "      <td>1</td>\n",
       "      <td>0.8834</td>\n",
       "    </tr>\n",
       "    <tr>\n",
       "      <th>2</th>\n",
       "      <td>10/2/17 12:41,Michelle &amp;amp; I are praying for...</td>\n",
       "      <td>1</td>\n",
       "      <td>0.0516</td>\n",
       "    </tr>\n",
       "    <tr>\n",
       "      <th>3</th>\n",
       "      <td>9/30/17 2:22,Proud to cheer on Team USA at the...</td>\n",
       "      <td>1</td>\n",
       "      <td>0.8934</td>\n",
       "    </tr>\n",
       "    <tr>\n",
       "      <th>4</th>\n",
       "      <td>9/26/17 17:03,\"We're expanding our efforts to ...</td>\n",
       "      <td>1</td>\n",
       "      <td>0.5994</td>\n",
       "    </tr>\n",
       "  </tbody>\n",
       "</table>\n",
       "</div>"
      ],
      "text/plain": [
       "                                              Review  Polarity  ObamaSentiment\n",
       "0  created_at,text,url,replies,retweets,favorites...         1          0.0000\n",
       "1  10/16/17 22:59,\"I'm grateful to @SenJohnMcCain...         1          0.8834\n",
       "2  10/2/17 12:41,Michelle &amp; I are praying for...         1          0.0516\n",
       "3  9/30/17 2:22,Proud to cheer on Team USA at the...         1          0.8934\n",
       "4  9/26/17 17:03,\"We're expanding our efforts to ...         1          0.5994"
      ]
     },
     "execution_count": 9,
     "metadata": {},
     "output_type": "execute_result"
    }
   ],
   "source": [
    "dobama.head()"
   ]
  },
  {
   "cell_type": "markdown",
   "id": "dc780f49-60a0-40d6-8088-c392dcc284eb",
   "metadata": {},
   "source": [
    "### Trump Tweets "
   ]
  },
  {
   "cell_type": "code",
   "execution_count": 10,
   "id": "8fdf17ae-8130-4585-af9e-7db58cd13ba0",
   "metadata": {},
   "outputs": [
    {
     "data": {
      "text/html": [
       "<div>\n",
       "<style scoped>\n",
       "    .dataframe tbody tr th:only-of-type {\n",
       "        vertical-align: middle;\n",
       "    }\n",
       "\n",
       "    .dataframe tbody tr th {\n",
       "        vertical-align: top;\n",
       "    }\n",
       "\n",
       "    .dataframe thead th {\n",
       "        text-align: right;\n",
       "    }\n",
       "</style>\n",
       "<table border=\"1\" class=\"dataframe\">\n",
       "  <thead>\n",
       "    <tr style=\"text-align: right;\">\n",
       "      <th></th>\n",
       "      <th>Review</th>\n",
       "      <th>Polarity</th>\n",
       "    </tr>\n",
       "  </thead>\n",
       "  <tbody>\n",
       "    <tr>\n",
       "      <th>0</th>\n",
       "      <td>created_at,text,url,replies,retweets,favorites...</td>\n",
       "      <td>1</td>\n",
       "    </tr>\n",
       "    <tr>\n",
       "      <th>1</th>\n",
       "      <td>10/23/17 12:30,\"I had a very respectful conver...</td>\n",
       "      <td>1</td>\n",
       "    </tr>\n",
       "    <tr>\n",
       "      <th>2</th>\n",
       "      <td>10/23/17 11:53,\"Two dozen NFL players continue...</td>\n",
       "      <td>1</td>\n",
       "    </tr>\n",
       "    <tr>\n",
       "      <th>3</th>\n",
       "      <td>10/23/17 11:42,\"There will be NO change to you...</td>\n",
       "      <td>1</td>\n",
       "    </tr>\n",
       "    <tr>\n",
       "      <th>4</th>\n",
       "      <td>10/22/17 12:08,\"It is finally sinking through....</td>\n",
       "      <td>1</td>\n",
       "    </tr>\n",
       "  </tbody>\n",
       "</table>\n",
       "</div>"
      ],
      "text/plain": [
       "                                              Review  Polarity\n",
       "0  created_at,text,url,replies,retweets,favorites...         1\n",
       "1  10/23/17 12:30,\"I had a very respectful conver...         1\n",
       "2  10/23/17 11:53,\"Two dozen NFL players continue...         1\n",
       "3  10/23/17 11:42,\"There will be NO change to you...         1\n",
       "4  10/22/17 12:08,\"It is finally sinking through....         1"
      ]
     },
     "execution_count": 10,
     "metadata": {},
     "output_type": "execute_result"
    }
   ],
   "source": [
    "trump = pd.DataFrame({'Review':trump_tweets, 'Polarity':1})\n",
    "trump.head()"
   ]
  },
  {
   "cell_type": "code",
   "execution_count": 11,
   "id": "20e9da7f-3f19-498a-a02b-e9a58b93bfb9",
   "metadata": {},
   "outputs": [],
   "source": [
    "dtrump = pd.concat([trump], ignore_index=True)"
   ]
  },
  {
   "cell_type": "code",
   "execution_count": 12,
   "id": "0e4792c4-c76e-4bc0-b1de-cf85ad338050",
   "metadata": {},
   "outputs": [],
   "source": [
    "dtrump['TrumpSentiment'] = [getSentiment(review) for review in dtrump['Review']]"
   ]
  },
  {
   "cell_type": "code",
   "execution_count": 13,
   "id": "cef4be3d-704e-4c83-b82a-d5dcac8ddb7f",
   "metadata": {},
   "outputs": [
    {
     "data": {
      "text/html": [
       "<div>\n",
       "<style scoped>\n",
       "    .dataframe tbody tr th:only-of-type {\n",
       "        vertical-align: middle;\n",
       "    }\n",
       "\n",
       "    .dataframe tbody tr th {\n",
       "        vertical-align: top;\n",
       "    }\n",
       "\n",
       "    .dataframe thead th {\n",
       "        text-align: right;\n",
       "    }\n",
       "</style>\n",
       "<table border=\"1\" class=\"dataframe\">\n",
       "  <thead>\n",
       "    <tr style=\"text-align: right;\">\n",
       "      <th></th>\n",
       "      <th>Review</th>\n",
       "      <th>Polarity</th>\n",
       "      <th>TrumpSentiment</th>\n",
       "    </tr>\n",
       "  </thead>\n",
       "  <tbody>\n",
       "    <tr>\n",
       "      <th>0</th>\n",
       "      <td>created_at,text,url,replies,retweets,favorites...</td>\n",
       "      <td>1</td>\n",
       "      <td>0.0000</td>\n",
       "    </tr>\n",
       "    <tr>\n",
       "      <th>1</th>\n",
       "      <td>10/23/17 12:30,\"I had a very respectful conver...</td>\n",
       "      <td>1</td>\n",
       "      <td>0.5551</td>\n",
       "    </tr>\n",
       "    <tr>\n",
       "      <th>2</th>\n",
       "      <td>10/23/17 11:53,\"Two dozen NFL players continue...</td>\n",
       "      <td>1</td>\n",
       "      <td>-0.6476</td>\n",
       "    </tr>\n",
       "    <tr>\n",
       "      <th>3</th>\n",
       "      <td>10/23/17 11:42,\"There will be NO change to you...</td>\n",
       "      <td>1</td>\n",
       "      <td>0.6439</td>\n",
       "    </tr>\n",
       "    <tr>\n",
       "      <th>4</th>\n",
       "      <td>10/22/17 12:08,\"It is finally sinking through....</td>\n",
       "      <td>1</td>\n",
       "      <td>-0.8599</td>\n",
       "    </tr>\n",
       "  </tbody>\n",
       "</table>\n",
       "</div>"
      ],
      "text/plain": [
       "                                              Review  Polarity  TrumpSentiment\n",
       "0  created_at,text,url,replies,retweets,favorites...         1          0.0000\n",
       "1  10/23/17 12:30,\"I had a very respectful conver...         1          0.5551\n",
       "2  10/23/17 11:53,\"Two dozen NFL players continue...         1         -0.6476\n",
       "3  10/23/17 11:42,\"There will be NO change to you...         1          0.6439\n",
       "4  10/22/17 12:08,\"It is finally sinking through....         1         -0.8599"
      ]
     },
     "execution_count": 13,
     "metadata": {},
     "output_type": "execute_result"
    }
   ],
   "source": [
    "dtrump.head()"
   ]
  },
  {
   "cell_type": "markdown",
   "id": "33e0a135-866d-42d3-a46c-d445a1c7e1f1",
   "metadata": {},
   "source": [
    "### Comparing Trump and Obama Tweets "
   ]
  },
  {
   "cell_type": "markdown",
   "id": "1a065125-9f68-43a4-ae85-4236162fec1a",
   "metadata": {},
   "source": [
    "#### Calculating the mean and standard deviation of the sentiment scores for each dataframe\n"
   ]
  },
  {
   "cell_type": "code",
   "execution_count": 14,
   "id": "a64317c1-1ffc-4961-bc79-4fbd294c6fd9",
   "metadata": {},
   "outputs": [
    {
     "data": {
      "text/plain": [
       "0.13789334982987933"
      ]
     },
     "execution_count": 14,
     "metadata": {},
     "output_type": "execute_result"
    }
   ],
   "source": [
    "dtrump['TrumpSentiment'].mean()"
   ]
  },
  {
   "cell_type": "code",
   "execution_count": 15,
   "id": "278f04c0-2d33-430d-b921-720ee55072cf",
   "metadata": {},
   "outputs": [
    {
     "data": {
      "text/plain": [
       "0.18836683291770573"
      ]
     },
     "execution_count": 15,
     "metadata": {},
     "output_type": "execute_result"
    }
   ],
   "source": [
    "dobama['ObamaSentiment'].mean()"
   ]
  },
  {
   "cell_type": "code",
   "execution_count": 16,
   "id": "acc6de30-6b49-43fb-aab8-2357d3b9a5d9",
   "metadata": {},
   "outputs": [
    {
     "data": {
      "text/plain": [
       "0.5162848318527068"
      ]
     },
     "execution_count": 16,
     "metadata": {},
     "output_type": "execute_result"
    }
   ],
   "source": [
    "dtrump['TrumpSentiment'].std()"
   ]
  },
  {
   "cell_type": "code",
   "execution_count": 17,
   "id": "b5a68af1-68f3-4139-b889-30f8272605d5",
   "metadata": {},
   "outputs": [
    {
     "data": {
      "text/plain": [
       "0.37158275461461066"
      ]
     },
     "execution_count": 17,
     "metadata": {},
     "output_type": "execute_result"
    }
   ],
   "source": [
    "dobama['ObamaSentiment'].std()"
   ]
  },
  {
   "cell_type": "markdown",
   "id": "b5afeec3-c986-4b64-b1bb-38c60d6a6a80",
   "metadata": {},
   "source": [
    "#### Making a histogram plot showing the distribution of sentiment scores for each dataframe\n"
   ]
  },
  {
   "cell_type": "code",
   "execution_count": 18,
   "id": "9edd6299-b4ef-4c7f-867d-af7758ecdd26",
   "metadata": {},
   "outputs": [
    {
     "data": {
      "text/plain": [
       "<AxesSubplot:>"
      ]
     },
     "execution_count": 18,
     "metadata": {},
     "output_type": "execute_result"
    },
    {
     "data": {
      "image/png": "[encoded data removed]",
      "text/plain": [
       "<Figure size 432x288 with 1 Axes>"
      ]
     },
     "metadata": {
      "needs_background": "light"
     },
     "output_type": "display_data"
    }
   ],
   "source": [
    "dtrump.loc[dtrump['Polarity']==1, 'TrumpSentiment'].hist()"
   ]
  },
  {
   "cell_type": "code",
   "execution_count": 19,
   "id": "8c1cc5df-35f6-45b4-a7ce-6728f3b7d306",
   "metadata": {},
   "outputs": [
    {
     "data": {
      "text/plain": [
       "<AxesSubplot:>"
      ]
     },
     "execution_count": 19,
     "metadata": {},
     "output_type": "execute_result"
    },
    {
     "data": {
      "image/png": "[encoded data removed]",
      "text/plain": [
       "<Figure size 432x288 with 1 Axes>"
      ]
     },
     "metadata": {
      "needs_background": "light"
     },
     "output_type": "display_data"
    }
   ],
   "source": [
    "dobama.loc[dobama['Polarity']==1, 'ObamaSentiment'].hist()"
   ]
  },
  {
   "cell_type": "markdown",
   "id": "2759c983-4f17-4916-a9ee-bc640bb933f6",
   "metadata": {},
   "source": [
    "#### Printing examples of the most positively and most negatively scored tweets from each dataframe \n"
   ]
  },
  {
   "cell_type": "code",
   "execution_count": 20,
   "id": "4d8e4564-0ea4-43aa-922c-2fe0be39df03",
   "metadata": {},
   "outputs": [
    {
     "data": {
      "text/plain": [
       "1    10/23/17 12:30,\"I had a very respectful conver...\n",
       "3    10/23/17 11:42,\"There will be NO change to you...\n",
       "5    10/22/17 12:02,\"Wacky Congresswoman Wilson is ...\n",
       "7    10/22/17 0:09,\"...2nd Amendment, Strong Milita...\n",
       "8    10/22/17 0:02,\"...9 months than this Administr...\n",
       "Name: Review, dtype: object"
      ]
     },
     "execution_count": 20,
     "metadata": {},
     "output_type": "execute_result"
    }
   ],
   "source": [
    "trumppos = dtrump.loc[(dtrump['Polarity']==1) & (dtrump['TrumpSentiment']>0),'Review']\n",
    "trumppos.head()"
   ]
  },
  {
   "cell_type": "code",
   "execution_count": 21,
   "id": "498a0554-1e79-4e11-8209-62538a8af37c",
   "metadata": {},
   "outputs": [
    {
     "data": {
      "text/plain": [
       "1    10/16/17 22:59,\"I'm grateful to @SenJohnMcCain...\n",
       "2    10/2/17 12:41,Michelle &amp; I are praying for...\n",
       "3    9/30/17 2:22,Proud to cheer on Team USA at the...\n",
       "4    9/26/17 17:03,\"We're expanding our efforts to ...\n",
       "5    9/25/17 23:36,\"Prosecutor, soldier, family man...\n",
       "Name: Review, dtype: object"
      ]
     },
     "execution_count": 21,
     "metadata": {},
     "output_type": "execute_result"
    }
   ],
   "source": [
    "obamapos = dobama.loc[(dobama['Polarity']==1) & (dobama['ObamaSentiment']>0),'Review']\n",
    "obamapos.head()"
   ]
  },
  {
   "cell_type": "code",
   "execution_count": 22,
   "id": "ac78d04b-337a-4325-b654-77460cdc56de",
   "metadata": {},
   "outputs": [
    {
     "data": {
      "text/plain": [
       "2     10/23/17 11:53,\"Two dozen NFL players continue...\n",
       "4     10/22/17 12:08,\"It is finally sinking through....\n",
       "9     10/21/17 23:57,\"I agree getting Tax Cuts appro...\n",
       "10    10/21/17 22:51,\"Just out, but lightly reported...\n",
       "12    10/21/17 20:06,\"Keep hearing about \"\"tiny\"\" am...\n",
       "Name: Review, dtype: object"
      ]
     },
     "execution_count": 22,
     "metadata": {},
     "output_type": "execute_result"
    }
   ],
   "source": [
    "trumpneg = dtrump.loc[(dtrump['Polarity']==1) & (dtrump['TrumpSentiment']<0),'Review']\n",
    "trumpneg.head()"
   ]
  },
  {
   "cell_type": "code",
   "execution_count": 23,
   "id": "e5e773f9-0a7f-489a-8ec1-640ffccc4b39",
   "metadata": {},
   "outputs": [
    {
     "data": {
      "text/plain": [
       "10    9/11/17 15:32,We remember everyone we lost on ...\n",
       "14    9/5/17 18:52,\"To target hopeful young strivers...\n",
       "18    8/13/17 0:06,\"\"\"People must learn to hate, and...\n",
       "19    8/13/17 0:06,\"\"\"No one is born hating another ...\n",
       "20    7/20/17 0:49,\"John McCain is an American hero ...\n",
       "Name: Review, dtype: object"
      ]
     },
     "execution_count": 23,
     "metadata": {},
     "output_type": "execute_result"
    }
   ],
   "source": [
    "obamaneg = dobama.loc[(dobama['Polarity']==1) & (dobama['ObamaSentiment']<0),'Review']\n",
    "obamaneg.head()"
   ]
  },
  {
   "cell_type": "markdown",
   "id": "04299a81-ec51-4811-8066-dcf4cc7d6b48",
   "metadata": {},
   "source": [
    "#### Commenting on how the two sets differ\n"
   ]
  },
  {
   "cell_type": "markdown",
   "id": "f8be9a8a-0291-4a1e-b921-3239ff1f425a",
   "metadata": {},
   "source": [
    "Trump has more negative tweets compared to Obama however he has a higher standard deviation compared to Obama. Overall, Trump does have a lower Sentient Score mean which implies that he posts more positive tweets. "
   ]
  },
  {
   "cell_type": "markdown",
   "id": "b2c81bb7-1ab2-4a10-a914-4ba006fa5319",
   "metadata": {},
   "source": [
    "#### Conclude by commenting on where you think VADER does a good job and where it may have some shortcomings.\n"
   ]
  },
  {
   "cell_type": "markdown",
   "id": "86e943ac-9c6d-43e9-a4c2-c5d1c6ce4c55",
   "metadata": {},
   "source": [
    "I think VADER does a good job at analyzing large datasets and it's a very easy approach to understand: assign a score to each word to evaluate the overall intensity of a sentence. However, some of the shortcomings is that it can misinterpret sarcasm or irony or tone in general. For example, one of the negative tweets in Obama is \"“People must learn to hate, and if they can learn to hate, they can be taught to love, for love comes more naturally to the human heart than its opposite\". Although it uses the word hate, the purpose of the tweet is to redirect those towards love. In this case, we can see how it can misevaluate a tweet. "
   ]
  },
  {
   "cell_type": "markdown",
   "id": "d6811549-f3d8-4636-896d-3d959ec52b52",
   "metadata": {},
   "source": [
    "## Step 3 Topic Modeling of Trump & Obama Tweets"
   ]
  },
  {
   "cell_type": "markdown",
   "id": "87635e1e-6122-49de-b7a3-654a8b24bb8b",
   "metadata": {},
   "source": [
    "Use gensim and LDA to perform topic modeling on the tweets of each dataframe.\n",
    "Use at least two different numbers of topics to explore the variation\n",
    "Use at least two different numbers of passes when training the LDA model\n",
    "\n"
   ]
  },
  {
   "cell_type": "code",
   "execution_count": 24,
   "id": "d10b0a97-5303-45d3-af30-8c6774353fe0",
   "metadata": {},
   "outputs": [],
   "source": [
    "from nltk.tokenize import sent_tokenize, word_tokenize\n",
    "from nltk.corpus import stopwords\n",
    "from string import punctuation"
   ]
  },
  {
   "cell_type": "code",
   "execution_count": 25,
   "id": "95b17653-aa88-4230-814a-ed48b31f3729",
   "metadata": {},
   "outputs": [],
   "source": [
    "myStopWords = list(punctuation) + stopwords.words('english')"
   ]
  },
  {
   "cell_type": "markdown",
   "id": "9c3b2b10-d6f9-4d83-9c55-fb45eb4b4899",
   "metadata": {},
   "source": [
    "### Obama"
   ]
  },
  {
   "cell_type": "code",
   "execution_count": 26,
   "id": "1fc92d0d-9023-4790-a362-8b93f3df979a",
   "metadata": {},
   "outputs": [],
   "source": [
    "obamapd = dobama.loc[(dobama['Polarity']==1),'Review']"
   ]
  },
  {
   "cell_type": "code",
   "execution_count": 27,
   "id": "171a8ef9-6755-41bd-a85f-d1970e7c3b0d",
   "metadata": {},
   "outputs": [
    {
     "data": {
      "text/plain": [
       "['created_at', 'text', 'url', 'replies', 'retweets', 'favorites', 'user']"
      ]
     },
     "execution_count": 27,
     "metadata": {},
     "output_type": "execute_result"
    }
   ],
   "source": [
    "docs = []\n",
    "for i in obamapd:\n",
    "    docs.append([w for w in word_tokenize(i.lower()) if w not in myStopWords])\n",
    "docs[0]"
   ]
  },
  {
   "cell_type": "code",
   "execution_count": 36,
   "id": "05b9e1a2-481a-47cf-bb90-4e0b45d0a3a4",
   "metadata": {},
   "outputs": [
    {
     "data": {
      "text/plain": [
       "['created_at', 'text', 'url', 'repli', 'retweet', 'favorit', 'user']"
      ]
     },
     "execution_count": 36,
     "metadata": {},
     "output_type": "execute_result"
    }
   ],
   "source": [
    "from nltk.stem.porter import PorterStemmer\n",
    "#from nltk.stem import LancasterStemmer \n",
    "# Create p_stemmer of class PorterStemmer\n",
    "p_stemmer = PorterStemmer()\n",
    "\n",
    "docs_stemmed = []\n",
    "for i in docs:\n",
    "    docs_stemmed.append([p_stemmer.stem(w) for w in i])\n",
    "    \n",
    "docs_stemmed[0]"
   ]
  },
  {
   "cell_type": "code",
   "execution_count": 28,
   "id": "4b05853f-0e72-40d1-938f-96a71b2e707a",
   "metadata": {},
   "outputs": [],
   "source": [
    "from gensim import corpora, models\n",
    "import gensim"
   ]
  },
  {
   "cell_type": "code",
   "execution_count": 37,
   "id": "3ccfd12f-76a8-4f80-b955-4f4610e06ec3",
   "metadata": {},
   "outputs": [],
   "source": [
    "dictionary = corpora.Dictionary(docs_stemmed)"
   ]
  },
  {
   "cell_type": "code",
   "execution_count": 38,
   "id": "072594c0-824d-4dc6-9859-90891afb2cda",
   "metadata": {},
   "outputs": [],
   "source": [
    "dictionary.filter_extremes(no_below=10, no_above=0.5)\n",
    "# could also trim with keep_n=1000 or similar to keep only the top words"
   ]
  },
  {
   "cell_type": "code",
   "execution_count": 39,
   "id": "34471f4d-bbe3-47d0-935e-8475e223beac",
   "metadata": {},
   "outputs": [
    {
     "name": "stdout",
     "output_type": "stream",
     "text": [
      "{'retweet': 0, \"''\": 1, \"'m\": 2, \"'s\": 3, '``': 4, 'countri': 5, 'servic': 6, 'year': 7, 'amp': 8, 'anoth': 9, 'everyon': 10, 'famili': 11, 'michel': 12, 'thought': 13, 'best': 14, 'friend': 15, 'game': 16, 'proud': 17, 'team': 18, 'today': 19, \"'re\": 20, '17:03': 21, 'american': 22, 'effort': 23, 'expand': 24, 'fellow': 25, 'help': 26, 'join': 27, 'need': 28, 'right': 29, 'us': 30, 'better': 31, 'leav': 32, 'made': 33, 'want': 34, 'address': 35, 'presid': 36, 'rt': 37, 'start': 38, 'tune': 39, 'think': 40, 'tonight': 41, 'everi': 42, 'import': 43, 'kid': 44, 'make': 45, 'sure': 46, 'thank': 47, 'work': 48, 'chang': 49, 'inspir': 50, 'peopl': 51, 'world': 52, 'act': 53, 'ever': 54, 'honor': 55, '15:56': 56, 'across': 57, 'answer': 58, 'call': 59, 'u.s.': 60, 'futur': 61, 'hope': 62, 'mind': 63, 'young': 64, 'alway': 65, '18:52': 66, 'done': 67, 'noth': 68, 'statement': 69, 'first': 70, 'stand': 71, '...': 72, 'come': 73, 'love': 74, 'learn': 75, 'must': 76, 'one': 77, 'person': 78, \"'ve\": 79, 'give': 80, 'know': 81, \"n't\": 82, '19:41': 83, 'care': 84, 'health': 85, 'polit': 86, 'someth': 87, 'enough': 88, 'life': 89, 'commit': 90, 'day': 91, 'gun': 92, 'heard': 93, 'let': 94, 'nation': 95, 'reduc': 96, 'show': 97, 'violenc': 98, 'voic': 99, 'protect': 100, 'discuss': 101, 'good': 102, 'see': 103, 'go': 104, 'differ': 105, 'hear': 106, 'home': 107, 'happi': 108, 'back': 109, 'hard': 110, 'like': 111, 'well': 112, 'side': 113, \"'ll\": 114, 'came': 115, 'miss': 116, 'turn': 117, '21:14': 118, 'power': 119, 'women': 120, '//t_': 121, 'commun': 122, 'lead': 123, 'mani': 124, 'tell': 125, 'almost': 126, 'feel': 127, 'new': 128, '18:07': 129, 'job': 130, 'part': 131, 'read': 132, 'add': 133, '21:05': 134, 'ahead': 135, 'idea': 136, 'share': 137, 'everybodi': 138, 'get': 139, 'still': 140, 'thing': 141, 'eight': 142, 'et': 143, 'obama': 144, 'progress': 145, 'watch': 146, 'afford': 147, 'coverag': 148, 'ofa': 149, 'weekli': 150, 'improv': 151, 'obamacar': 152, 'economi': 153, 'keep': 154, 'stronger': 155, 'actonclim': 156, 'enter': 157, 'momentum': 158, 'parisagr': 159, 'ad': 160, 'past': 161, 'percent': 162, 'wage': 163, 'check': 164, 'getcov': 165, 'lot': 166, 'option': 167, 'plan': 168, 'big': 169, 'hold': 170, 'impact': 171, 'state': 172, 'believ': 173, 'even': 174, 'happen': 175, 'hous': 176, 'potu': 177, 'white': 178, 'win': 179, 'benefit': 180, 'million': 181, 'marketplac': 182, 'qualiti': 183, 'ensur': 184, 'equal': 185, 'mark': 186, 'pay': 187, 'whitehous': 188, 'never': 189, 'organ': 190, 'without': 191, 'open': 192, 'time': 193, 'uninsur': 194, '//t._': 195, '22:17': 196, 'enrol': 197, 'flotu': 198, 'stori': 199, 'tomorrow': 200, '20:12': 201, 'speak': 202, 'support': 203, 'insur': 204, 'three': 205, '15:33': 206, 'ca': 207, 'stop': 208, 'court': 209, 'doyourjob': 210, 'leader': 211, 'nomin': 212, 'obstruct': 213, 'process': 214, 'say': 215, 'senat': 216, 'suprem': 217, 'highest': 218, 'put': 219, 'chanc': 220, 'climat': 221, 'danger': 222, 'abl': 223, 'play': 224, 'rule': 225, 'lay': 226, 'way': 227, 'energi': 228, 'report': 229, 'gain': 230, 'peac': 231, 'build': 232, 'find': 233, 'cover': 234, 'name': 235, '1': 236, 'less': 237, 'month': 238, 'deserv': 239, 'fair': 240, 'sick': 241, 'system': 242, 'trip': 243, 'truth': 244, 'financi': 245, 'movement': 246, 'polici': 247, 'strong': 248, 'level': 249, 'lowest': 250, 'sign': 251, 'sinc': 252, 'america': 253, 'cut': 254, 'rate': 255, 'live': 256, 'save': 257, '16:40': 258, 'stay': 259, 'secur': 260, 'law': 261, 'celebr': 262, 'far': 263, 'talk': 264, '//t.co_': 265, '10': 266, 'p.m.': 267, '15:35': 268, 'around': 269, 'got': 270, 'board': 271, 'editori': 272, 'look': 273, 'take': 274, 'justic': 275, 'long': 276, 'histori': 277, 'clear': 278, 'action': 279, 'bold': 280, 'real': 281, 'forward': 282, 'latest': 283, 'push': 284, 'step': 285, 'access': 286, 'educ': 287, 'fight': 288, 'could': 289, 'decad': 290, 'next': 291, '18:46': 292, 'block': 293, 'higher': 294, '//t.c_': 295, 'opportun': 296, 'student': 297, 'garland': 298, 'judg': 299, 'agre': 300, 'fill': 301, 'cynic': 302, 'challeng': 303, 'face': 304, 'that': 305, 'vote': 306, '15:24': 307, 'offic': 308, '//t.co/_': 309, 'readi': 310, 'carbon': 311, 'deal': 312, 'last': 313, 'pollut': 314, 'reach': 315, 'week': 316, 'children': 317, 'planet': 318, 'behind': 319, 'effect': 320, 'scienc': 321, '21:18': 322, 'lgbt': 323, 'continu': 324, 'qualifi': 325, '15:31': 326, 'fact': 327, 'spread': 328, 'deadlin': 329, 'succeed': 330, 'administr': 331, 'econom': 332, 'growth': 333, 'longest': 334, 'record': 335, 'streak': 336, 'histor': 337, 'icymi': 338, 'mean': 339, 'clean': 340, 'cost': 341, 'drop': 342, 'gener': 343, 'agreement': 344, 'deliv': 345, 'vacanc': 346, 'pass': 347, 'matter': 348, 'convers': 349, 'bring': 350, 'inform': 351, 'paid': 352, 'private-sector': 353, 'took': 354, 'worker': 355, 'leadonleav': 356, 'child': 357, 'congress': 358, '15:57': 359, 'nomine': 360, 'consid': 361, 'refus': 362, 'question': 363, 'easi': 364, 'togeth': 365, 'ago': 366, 'poverti': 367, '16:57': 368, 'six': 369, '20:58': 370, 'high': 371, 'yet': 372, 'end': 373, 'unpreced': 374, '15:55': 375, 'wait': 376, 'broken': 377, 'record-break': 378, 'set': 379, 'recess': 380, 'respons': 381, 'alreadi': 382, 'leadership': 383, 'meet': 384, 'unit': 385, '21:23': 386, 'basic': 387, 'remind': 388, 'partisan': 389, 'land': 390, 'water': 391, 'nearli': 392, '2016': 393, 'confer': 394, 'break': 395, '19:05': 396, 'constitut': 397, 'solar': 398, 'two': 399, 'scotu': 400, 'middle-class': 401, '2015': 402, '//_': 403, 'biden': 404, 'interview': 405, 'global': 406, 'factsonclim': 407, 'wind': 408, 'vp': 409, 'rise': 410, '18:57': 411, '16:58': 412, 'messag': 413, '17:01': 414, 'great': 415, 'deficit': 416, 'unemploy': 417, '16:00': 418, 'solut': 419, 'thousand': 420, 'feder': 421, 'up-or-down': 422, 'treat': 423, 'birthday': 424, 'park': 425, '21:35': 426, 'news': 427, 'straight': 428, 'creat': 429, '15:17': 430, 'full': 431, 'longer': 432, '17:45': 433, 'public': 434, 'weve': 435, 'anniversari': 436, 'billion': 437, 'common-sens': 438, 'disarmh': 439, '18:48': 440, 'use': 441, 'left': 442, 'five': 443, 'critic': 444, 'major': 445, 'much': 446, '16:59': 447, '19:17': 448, 'toward': 449, 'strongest': 450, '16:49': 451, 'card': 452, 'wish': 453, 'special': 454, '8': 455, 'number': 456, 'may': 457, 'issu': 458, 'republican': 459, 'place': 460, 'away': 461, 'scientist': 462, 'prevent': 463, 'announc': 464, 'minimum': 465, 'rais': 466, 'crisi': 467, 'reform': 468, 'bipartisan': 469, 'busi': 470, '/_': 471, 'industri': 472, 'train': 473, 'op-': 474, 'remark': 475, 'hall': 476, 'town': 477, 'would': 478, 'chicago': 479, 'hard-work': 480, 'raisethewag': 481, 'chip': 482, 'run': 483, 'moment': 484, 'fall': 485, 'tackl': 486, 'demand': 487, '1st': 488, 'loveislov': 489, 'free': 490, 'marriag': 491, 'grassroot': 492, 'word': 493, '16:52': 494, 'immigr': 495, 'immigrationact': 496, 'decis': 497, 'merrick': 498, 'taken': 499, 'worth': 500, '19:53': 501, 'tpp': 502, 'final': 503, '6/1/16': 504, 'seven': 505, 'school': 506, 'overtim': 507, 'updat': 508, 'consecut': 509, 'grow': 510, 'men': 511, '17:12': 512, 'volunt': 513, 'trade': 514, 'air': 515, 'safer': 516, 'denier': 517, 'move': 518, 'head': 519, 'crimin': 520, 'huge': 521, 'invest': 522, 'threat': 523, '21:13': 524, 'a.m.': 525, 'centuri': 526, 'shot': 527, '16:19': 528, 'petit': 529, 'februari': 530, 'list': 531, 'itsonu': 532, '22:00': 533, 'skill': 534, '18:30': 535, 'januari': 536, 'budget': 537, 'send': 538, 'privat': 539, 'stopgunviol': 540, 'tri': 541, 'auto': 542, 'prison': 543, 'madeinamerica': 544, 'iran': 545, 'irand': 546, 'reject': 547, 'sotu': 548, '1/13/16': 549, 'leadontrad': 550, 'dollar': 551, 'colleg': 552, 'collegeopportun': 553, 'union': 554, '1/8/16': 555, '1/5/16': 556, 'alaska': 557, 'holiday': 558, 'reason': 559, 'enoughalreadi': 560, 'dosometh': 561, 'assault': 562, 'compani': 563, 'summit': 564, 'fix': 565, 'ofafallsummit': 566, 'veteran': 567, 'class': 568, 'middl': 569, '11/9/15': 570, '11/6/15': 571, 'pledg': 572, 'fixovertim': 573, '8/5/15': 574, 'bill': 575, 'internet': 576, '7/14/15': 577, '7/2/15': 578, 'acawork': 579, 'lovewin': 580, '7/1/15': 581, '6/26/15': 582, '6/25/15': 583, '5/20/15': 584, '5/8/15': 585, '4/23/15': 586, '4/22/15': 587, '4/16/15': 588, '3/26/15': 589, '3/18/15': 590, '3/10/15': 591, 'marchon': 592, 'selma50': 593, '3/7/15': 594, 'netneutr': 595, 'sexual': 596, '2/6/15': 597, 'americalead': 598, '1/21/15': 599, '1/12/15': 600, '1/7/15': 601, '12/15/14': 602, '12/9/14': 603, 'thisiswhi': 604, '11/25/14': 605, '11/21/14': 606, '11/14/14': 607, '11/13/14': 608, '10/31/14': 609, 'womensucce': 610, '10/10/14': 611, '10/2/14': 612, '9/23/14': 613, '9/19/14': 614, '9/12/14': 615, 'opportunityforal': 616}\n"
     ]
    }
   ],
   "source": [
    "print(dictionary.token2id)"
   ]
  },
  {
   "cell_type": "code",
   "execution_count": 40,
   "id": "de2a1ef7-e342-48e1-8ffa-cb6a5c8b156e",
   "metadata": {},
   "outputs": [],
   "source": [
    "corpus = [dictionary.doc2bow(text) for text in docs]"
   ]
  },
  {
   "cell_type": "code",
   "execution_count": 41,
   "id": "8d59db2e-cac4-49f1-a660-4fc7cd35d0b9",
   "metadata": {},
   "outputs": [
    {
     "name": "stdout",
     "output_type": "stream",
     "text": [
      "[(1, 1), (3, 1), (4, 1), (8, 1), (22, 1), (54, 1), (77, 1), (79, 1), (80, 1), (81, 1), (82, 1)]\n"
     ]
    }
   ],
   "source": [
    "print(corpus[20])"
   ]
  },
  {
   "cell_type": "code",
   "execution_count": 42,
   "id": "b439a88e-16b1-4a8b-9078-9f4ee339e28e",
   "metadata": {},
   "outputs": [],
   "source": [
    "ldamodel = gensim.models.ldamodel.LdaModel(corpus, \n",
    "                                           num_topics=20, \n",
    "                                           id2word = dictionary, \n",
    "                                           passes=5)"
   ]
  },
  {
   "cell_type": "markdown",
   "id": "84d2a5f7-c565-4a1a-8aa6-9a611ac1b712",
   "metadata": {},
   "source": [
    "#### For each scenario, print the key words for each topic, and comment on whether they make any sense"
   ]
  },
  {
   "cell_type": "code",
   "execution_count": 43,
   "id": "41a692ce-cda9-40e5-8316-043fd8d5f9eb",
   "metadata": {},
   "outputs": [
    {
     "data": {
      "text/plain": [
       "[(0,\n",
       "  '0.120*\"support\" + 0.071*\"movement\" + 0.057*\"show\" + 0.053*\"american\" + 0.044*\"put\" + 0.041*\"trade\" + 0.035*\"deal\" + 0.034*\"grow\" + 0.028*\"play\" + 0.027*\"save\"'),\n",
       " (1,\n",
       "  '0.082*\"\\'s\" + 0.081*\"new\" + 0.058*\"pay\" + 0.054*\"equal\" + 0.042*\"know\" + 0.034*\"work\" + 0.029*\"high\" + 0.029*\"year\" + 0.029*\"let\" + 0.027*\"stronger\"'),\n",
       " (2,\n",
       "  '0.092*\"get\" + 0.089*\"sotu\" + 0.076*\"way\" + 0.074*\"action\" + 0.050*\"ofa\" + 0.042*\"internet\" + 0.041*\"vp\" + 0.036*\"took\" + 0.035*\"share\" + 0.034*\"talk\"'),\n",
       " (3,\n",
       "  '0.190*\"health\" + 0.148*\"care\" + 0.093*\"ofa\" + 0.064*\"\\'s\" + 0.052*\"join\" + 0.050*\"reform\" + 0.048*\"team\" + 0.037*\"get\" + 0.025*\"today\" + 0.024*\"truth\"'),\n",
       " (4,\n",
       "  '0.087*\"\\'s\" + 0.073*\"obama\" + 0.067*\"america\" + 0.056*\"could\" + 0.052*\"icymi\" + 0.047*\"need\" + 0.041*\"budget\" + 0.039*\"big\" + 0.032*\"pass\" + 0.029*\"win\"'),\n",
       " (5,\n",
       "  '0.071*\"act\" + 0.070*\"\\'s\" + 0.058*\"\\'re\" + 0.058*\"tonight\" + 0.055*\"full\" + 0.052*\"open\" + 0.038*\"obama\" + 0.038*\"chip\" + 0.036*\"protect\" + 0.034*\"nation\"'),\n",
       " (6,\n",
       "  '0.096*\"doyourjob\" + 0.058*\"\\'s\" + 0.052*\"last\" + 0.048*\"plan\" + 0.046*\"court\" + 0.046*\"garland\" + 0.038*\"carbon\" + 0.038*\"right\" + 0.033*\"next\" + 0.032*\"fair\"'),\n",
       " (7,\n",
       "  '0.379*\"\\'\\'\" + 0.047*\"obama\" + 0.042*\"work\" + 0.038*\"women\" + 0.038*\"\\'re\" + 0.034*\"\\'s\" + 0.031*\"\\'ve\" + 0.028*\"make\" + 0.027*\"got\" + 0.023*\"get\"'),\n",
       " (8,\n",
       "  '0.352*\"rt\" + 0.065*\"today\" + 0.041*\"news\" + 0.027*\"1st\" + 0.027*\"great\" + 0.025*\"//_\" + 0.023*\"health\" + 0.023*\"like\" + 0.022*\"sign\" + 0.021*\"//t.c_\"'),\n",
       " (9,\n",
       "  '0.138*\"read\" + 0.089*\"u.s.\" + 0.070*\"system\" + 0.059*\"broken\" + 0.056*\"obama\" + 0.056*\"\\'s\" + 0.044*\"fix\" + 0.036*\"birthday\" + 0.031*\"help\" + 0.030*\"percent\"'),\n",
       " (10,\n",
       "  '0.133*\"make\" + 0.129*\"progress\" + 0.094*\"\\'s\" + 0.063*\"sure\" + 0.059*\"let\" + 0.051*\"made\" + 0.044*\"back\" + 0.035*\"go\" + 0.025*\"keep\" + 0.024*\"six\"'),\n",
       " (11,\n",
       "  '0.200*\"time\" + 0.197*\"\\'s\" + 0.057*\"one\" + 0.040*\"rt\" + 0.034*\"say\" + 0.027*\"assault\" + 0.027*\"vote\" + 0.023*\"take\" + 0.022*\"\\'ll\" + 0.020*\"get\"'),\n",
       " (12,\n",
       "  '0.276*\"obama\" + 0.211*\"live\" + 0.043*\"statement\" + 0.033*\"meet\" + 0.031*\"enter\" + 0.028*\"white\" + 0.027*\"tune\" + 0.021*\"american\" + 0.021*\"sign\" + 0.020*\"auto\"'),\n",
       " (13,\n",
       "  '0.088*\"\\'s\" + 0.083*\"check\" + 0.082*\"wage\" + 0.074*\"minimum\" + 0.050*\"state\" + 0.044*\"obama\" + 0.033*\"day\" + 0.033*\"call\" + 0.032*\"see\" + 0.031*\"keep\"'),\n",
       " (14,\n",
       "  '0.122*\"job\" + 0.086*\"take\" + 0.084*\"growth\" + 0.057*\"look\" + 0.051*\"private-sector\" + 0.051*\"good\" + 0.051*\"record\" + 0.042*\"month\" + 0.041*\"solar\" + 0.036*\"\\'\\'\"'),\n",
       " (15,\n",
       "  '0.581*\"\\'\\'\" + 0.073*\"obama\" + 0.022*\"new\" + 0.019*\"million\" + 0.017*\"year\" + 0.014*\"rate\" + 0.011*\"two\" + 0.011*\"today\" + 0.010*\"first\" + 0.010*\"health\"'),\n",
       " (16,\n",
       "  '0.135*\"name\" + 0.112*\"add\" + 0.083*\"fight\" + 0.057*\"part\" + 0.049*\"congress\" + 0.044*\"across\" + 0.041*\"gun\" + 0.035*\"step\" + 0.034*\"support\" + 0.028*\"find\"'),\n",
       " (17,\n",
       "  '0.659*\"\\'\\'\" + 0.090*\"obama\" + 0.017*\"america\" + 0.014*\"``\" + 0.011*\"us\" + 0.011*\"\\'s\" + 0.009*\"sotu\" + 0.006*\"world\" + 0.006*\"want\" + 0.006*\"...\"'),\n",
       " (18,\n",
       "  '0.184*\"n\\'t\" + 0.086*\"stand\" + 0.050*\"think\" + 0.046*\"\\'s\" + 0.045*\"ca\" + 0.041*\"give\" + 0.040*\"miss\" + 0.034*\"paid\" + 0.026*\"tomorrow\" + 0.024*\"access\"'),\n",
       " (19,\n",
       "  '0.238*\"watch\" + 0.139*\"obama\" + 0.098*\"et\" + 0.083*\"address\" + 0.081*\"tune\" + 0.072*\"p.m.\" + 0.039*\"speak\" + 0.030*\"2015\" + 0.017*\"air\" + 0.015*\"discuss\"')]"
      ]
     },
     "execution_count": 43,
     "metadata": {},
     "output_type": "execute_result"
    }
   ],
   "source": [
    "ldamodel.show_topics(num_topics=20)"
   ]
  },
  {
   "cell_type": "code",
   "execution_count": 46,
   "id": "bdca2be5-ea2d-40ff-81ff-8b0edd37eb16",
   "metadata": {},
   "outputs": [
    {
     "name": "stdout",
     "output_type": "stream",
     "text": [
      "(7, '0.379*\"\\'\\'\" + 0.047*\"obama\" + 0.042*\"work\" + 0.038*\"women\" + 0.038*\"\\'re\" + 0.034*\"\\'s\" + 0.031*\"\\'ve\" + 0.028*\"make\" + 0.027*\"got\" + 0.023*\"get\" + 0.019*\"hard\" + 0.018*\"fair\" + 0.017*\"let\" + 0.016*\"sure\" + 0.015*\"real\" + 0.013*\"men\" + 0.013*\"day\" + 0.012*\"keep\" + 0.011*\"done\" + 0.011*\"know\"')\n",
      "16:50\n",
      "\n",
      "\n",
      "(3, '0.190*\"health\" + 0.148*\"care\" + 0.093*\"ofa\" + 0.064*\"\\'s\" + 0.052*\"join\" + 0.050*\"reform\" + 0.048*\"team\" + 0.037*\"get\" + 0.025*\"today\" + 0.024*\"truth\" + 0.019*\"word\" + 0.019*\"stay\" + 0.019*\"spread\" + 0.016*\"card\" + 0.012*\"two\" + 0.010*\"retweet\" + 0.010*\"cost\" + 0.009*\"18:48\" + 0.009*\"million\" + 0.009*\"20:58\"')\n",
      "16:50\n",
      "\n",
      "\n"
     ]
    }
   ],
   "source": [
    "print(ldamodel.show_topics(num_topics=20, num_words=20)[7])\n",
    "print(i[1])\n",
    "print('\\n')\n",
    "\n",
    "print(ldamodel.show_topics(num_topics=20, num_words=20)[3])\n",
    "print(i[1])\n",
    "print('\\n')"
   ]
  },
  {
   "cell_type": "markdown",
   "id": "da1058bb-74f6-4f4c-a339-f2f3606aadb8",
   "metadata": {},
   "source": [
    "The seventh topic seems to be about gender while the third topic seems to be about healthcare. The key words seem semi related asin both cases, however, there are some outlier words that I believe can be applied to any topic. "
   ]
  },
  {
   "cell_type": "markdown",
   "id": "6ad679d0-dc2d-4e9b-82d7-c7678dc3cf37",
   "metadata": {},
   "source": [
    "### Trump Tweets"
   ]
  },
  {
   "cell_type": "code",
   "execution_count": 47,
   "id": "bdf3a34d-7d9e-447c-9d36-59213d389128",
   "metadata": {},
   "outputs": [],
   "source": [
    "trumppd = dtrump.loc[(dtrump['Polarity']==1),'Review']"
   ]
  },
  {
   "cell_type": "code",
   "execution_count": 48,
   "id": "8f2ee66f-8232-42af-9d7b-f0b8b60d5910",
   "metadata": {},
   "outputs": [
    {
     "data": {
      "text/plain": [
       "['created_at', 'text', 'url', 'replies', 'retweets', 'favorites', 'user']"
      ]
     },
     "execution_count": 48,
     "metadata": {},
     "output_type": "execute_result"
    }
   ],
   "source": [
    "docs = []\n",
    "for i in trumppd:\n",
    "    docs.append([w for w in word_tokenize(i.lower()) if w not in myStopWords])\n",
    "docs[0]"
   ]
  },
  {
   "cell_type": "code",
   "execution_count": 49,
   "id": "3b9c2c3a-081c-4cfd-8c81-a96d827afe28",
   "metadata": {},
   "outputs": [
    {
     "data": {
      "text/plain": [
       "['created_at', 'text', 'url', 'repli', 'retweet', 'favorit', 'user']"
      ]
     },
     "execution_count": 49,
     "metadata": {},
     "output_type": "execute_result"
    }
   ],
   "source": [
    "from nltk.stem.porter import PorterStemmer\n",
    "#from nltk.stem import LancasterStemmer \n",
    "# Create p_stemmer of class PorterStemmer\n",
    "p_stemmer = PorterStemmer()\n",
    "\n",
    "docs_stemmed = []\n",
    "for i in docs:\n",
    "    docs_stemmed.append([p_stemmer.stem(w) for w in i])\n",
    "    \n",
    "docs_stemmed[0]"
   ]
  },
  {
   "cell_type": "code",
   "execution_count": 50,
   "id": "d6ed638b-ea4e-4fb2-9b86-f5c77b844e00",
   "metadata": {},
   "outputs": [],
   "source": [
    "from gensim import corpora, models\n",
    "import gensim"
   ]
  },
  {
   "cell_type": "code",
   "execution_count": 52,
   "id": "7110ae98-e644-4e5c-9cac-c5aae61ad475",
   "metadata": {},
   "outputs": [
    {
     "name": "stdout",
     "output_type": "stream",
     "text": [
      "{'12:30': 0, '``': 1, 'begin': 2, 'david': 3, 'la': 4, 'name': 5, 'respect': 6, 'spoke': 7, 'without': 8, 'amp': 9, 'anthem': 10, 'continu': 11, 'countri': 12, 'disrespect': 13, 'flag': 14, 'leadership': 15, 'nation': 16, 'nfl': 17, 'player': 18, 'show': 19, 'total': 20, 'two': 21, 'alway': 22, 'chang': 23, 'class': 24, 'great': 25, 'middl': 26, 'popular': 27, 'stay': 28, 'tax': 29, 'work': 30, 'believ': 31, 'even': 32, 'fabric': 33, 'fake': 34, 'final': 35, 'lost': 36, 'major': 37, 'news': 38, 'peopl': 39, 'stori': 40, 'wors': 41, 'action': 42, 'dem': 43, 'disast': 44, 'give': 45, 'keep': 46, 'parti': 47, 'r': 48, 'republican': 49, 'vote': 50, 'watch': 51, '10:00': 52, 'a.m.': 53, 'enjoy': 54, 'foxnew': 55, 'interview': 56, 'today': 57, '...': 58, 'court': 59, 'histor': 60, 'isi': 61, 'justic': 62, 'market': 63, 'militari': 64, 'record': 65, 'stock': 66, 'strong': 67, 'suprem': 68, '....': 69, '50': 70, 'administr': 71, 'approv': 72, 'border': 73, 'cut': 74, 'energi': 75, 'freedom': 76, 'legisl': 77, 'massiv': 78, 'month': 79, 'regul': 80, 'secur': 81, '.....': 82, '10/21/17': 83, 'agre': 84, 'also': 85, 'done': 86, 'first': 87, 'get': 88, 'healthcar': 89, 'import': 90, 'perhap': 91, 'claim': 92, 'job': 93, 'report': 94, 'sinc': 95, 'u.s.': 96, 'clinton': 97, 'crook': 98, 'dollar': 99, 'elect': 100, 'facebook': 101, 'hillari': 102, 'million': 103, 'presidenti': 104, 'spent': 105, 'abc': 106, 'ad': 107, 'billion': 108, 'cnn': 109, 'hear': 110, 'money': 111, 'nbc': 112, 'depart': 113, 'fbi': 114, 'immedi': 115, 'offici': 116, 'paid': 117, 'releas': 118, 'campaign': 119, 'trump': 120, 'anoth': 121, 'friday': 122, 'high': 123, 'hit': 124, 'much': 125, \"n't\": 126, 'time': 127, 'trillion': 128, '13:08': 129, 'go': 130, 'presid': 131, 'rt': 132, 'tune': 133, 'allow': 134, 'classifi': 135, 'inform': 136, 'long': 137, 'open': 138, 'democrat': 139, 'hope': 140, 'kill': 141, 'media': 142, 'repres': 143, 'talk': 144, 'big': 145, 'biggest': 146, 'budget': 147, 'cover': 148, 'deal': 149, 'histori': 150, 'pass': 151, 'realli': 152, '10/20/17': 153, 'call': 154, 'man': 155, 'place': 156, 'wonder': 157, 'american': 158, 'join': 159, 'honor': 160, 'speak': 161, 'whitehous': 162, 'foxandfriend': 163, 'thank': 164, 'america': 165, 'crime': 166, 'good': 167, 'islam': 168, 'must': 169, 'radic': 170, 'safe': 171, 'terror': 172, 'unit': 173, 'larg': 174, 'reform': 175, '51': 176, 'got': 177, 'last': 178, 'night': 179, 'paul': 180, 'zero': 181, 'deliv': 182, 'step': 183, 'taxreform': 184, 'john': 185, 'rate': 186, 'right': 187, 'seanhann': 188, 'vega': 189, 'crazi': 190, 'gave': 191, 'lie': 192, 'person': 193, '100': 194, 'lose': 195, 'governor': 196, 'us': 197, 'obama': 198, 'foundat': 199, 'russia': 200, 'take': 201, 'worker': 202, 'follow': 203, 'help': 204, 'want': 205, 'know': 206, 'think': 207, 'actual': 208, '10/18/17': 209, 'hard': 210, 'maga': 211, 'one': 212, 'year': 213, 'real': 214, 'usa__': 215, 'stand': 216, '..': 217, 'iran': 218, 'nuclear': 219, 'committe': 220, 'member': 221, 'senat': 222, 'welcom': 223, 'bless': 224, 'brave': 225, 'fema': 226, 'god': 227, 'respond': 228, 'support': 229, 'team': 230, 'need': 231, \"'s\": 232, 'made': 233, 'never': 234, 'w/': 235, 'die': 236, 'sad': 237, 'said': 238, 'forc': 239, 'play': 240, 'best': 241, 'comey': 242, 'ever': 243, 'happen': 244, 'jame': 245, 'leak': 246, 'protect': 247, 'thing': 248, 'turn': 249, 'increas': 250, 'u.': 251, 'fix': 252, 'includ': 253, 'state': 254, 'complet': 255, 'investig': 256, 'mani': 257, 'wow': 258, '__http': 259, 'truth': 260, 'economi': 261, 'industri': 262, 'wall': 263, 'chanc': 264, 'obamacar': 265, 'premium': 266, 'product': 267, 'may': 268, 'nbcnew': 269, 'put': 270, '_http': 271, 'minist': 272, 'prime': 273, 'wh': 274, 'live': 275, 'drug': 276, 'day': 277, 'scavino45': 278, 'beauti': 279, 'carolina': 280, 'see': 281, 'south': 282, 'answer': 283, 'ask': 284, 'run': 285, 'busi': 286, 'enthusiasm': 287, '25': 288, '8': 289, 'back': 290, 'come': 291, 'compani': 292, 'low': 293, 'novemb': 294, 'chuck': 295, 'israel': 296, 'schumer': 297, 'tell': 298, 'obstruct': 299, '12:17': 300, 'bill': 301, 'could': 302, 'ivanka': 303, 'women': 304, 'fight': 305, 'mike_p': 306, 'look': 307, 'new': 308, 'fail': 309, 'fast': 310, 'nytim': 311, 'pari': 312, 'rapid': 313, '10/14/17': 314, 'erictrump': 315, 'fox': 316, 'special': 317, 'tonight': 318, 'forward': 319, 'makeamericagreatagain': 320, 'friend': 321, 'head': 322, 'make': 323, 'virginia': 324, 'let': 325, 'part': 326, 'cost': 327, 'execut': 328, 'far': 329, 'lower': 330, 'order': 331, 'proud': 332, 'end': 333, 'gone': 334, 'health': 335, 'insur': 336, 'yesterday': 337, 'confid': 338, 'highest': 339, 'level': 340, '2016': 341, 'accomplish': 342, 'statement': 343, 'deduct': 344, 'way': 345, 'smart': 346, 'lot': 347, 'speech': 348, 'trade': 349, 'better': 350, 'leader': 351, 'start': 352, '10/13/17': 353, 'announc': 354, 'govern': 355, 'birthday': 356, 'happi': 357, 'incred': 358, 'men': 359, 'serv': 360, 'bad': 361, 'puerto': 362, 'rico': 363, 'spirit': 364, 'left': 365, 'longer': 366, 'sanctuari': 367, 'mess': 368, 'other': 369, 'public': 370, 'corrupt': 371, 'free': 372, 'press': 373, 'stop': 374, 'care': 375, 'commun': 376, 'rebuild': 377, 'dishonest': 378, 'fakenew': 379, 'find': 380, '10/12/17': 381, 'famili': 382, 'system': 383, 'amaz': 384, 'congress': 385, 'hurrican': 386, 'say': 387, 'spend': 388, 'courag': 389, 'love': 390, 'becom': 391, 'challeng': 392, 'network': 393, '10/11/17': 394, 'pennsylvania': 395, 'enforc': 396, 'law': 397, 'local': 398, 'point': 399, 'nice': 400, 'would': 401, 'number': 402, '8th': 403, 'chief': 404, 'fantast': 405, 'fire': 406, 'usa': 407, 'gener': 408, 'hurt': 409, 'kelli': 410, 'soon': 411, 'tri': 412, '10/10/17': 413, '2017': 414, 'flotu': 415, 'host': 416, 'fool': 417, 'set': 418, 'came': 419, 'donald': 420, 'highli': 421, 'badli': 422, 'fact': 423, 'mike': 424, 'act': 425, 'ca': 426, 'power': 427, 'togeth': 428, 'use': 429, 'immigr': 430, 'polici': 431, 'problem': 432, 'safeti': 433, 'close': 434, 'greatest': 435, 'ivankatrump': 436, 'ralli': 437, 'game': 438, 'j.': 439, 'leav': 440, 'penc': 441, 'plan': 442, 'vp': 443, 'korea': 444, 'north': 445, 'noth': 446, '10/8/17': 447, 'small': 448, 'littl': 449, 'lead': 450, 'control': 451, 'yet': 452, 'expect': 453, 'endors': 454, 'secretari': 455, 'win': 456, 'given': 457, '10/7/17': 458, 'hous': 459, 'progress': 460, 'white': 461, 'negoti': 462, '......': 463, 'everyon': 464, 'pleas': 465, 'prepar': 466, '1': 467, 'matter': 468, 'coverag': 469, 'discuss': 470, 'voter': 471, 'offic': 472, 'potu': 473, 'citi': 474, 'gang': 475, '10/5/17': 476, 'manufactur': 477, 'forget': 478, 'meet': 479, 'polic': 480, 'victim': 481, 'save': 482, 'melania': 483, 'visit': 484, 'behalf': 485, 'grate': 486, 'hero': 487, '10/4/17': 488, 'land': 489, 'pay': 490, 'thought': 491, 'apolog': 492, 'issu': 493, 'around': 494, 'commit': 495, 'possibl': 496, 'provid': 497, 'abl': 498, 'd.c.': 499, 'prayer': 500, 'tomorrow': 501, 'condol': 502, 'terribl': 503, 'congratul': 504, 'victori': 505, 'told': 506, 'build': 507, 'almost': 508, 'polit': 509, 'protest': 510, '9/30/17': 511, 'alabama': 512, 'candid': 513, 'race': 514, 'went': 515, 'seen': 516, 'everyth': 517, 'effort': 518, 'mayor': 519, 'result': 520, \"'re\": 521, 'truli': 522, 'everi': 523, 'guy': 524, 'despit': 525, 'away': 526, 'tuesday': 527, 'video': 528, '11:39': 529, 'destroy': 530, 'feder': 531, 'ago': 532, '____': 533, 'optim': 534, '9/29/17': 535, 'address': 536, 'weekli': 537, '1:28': 538, 'kellyannepol': 539, 'econom': 540, 'futur': 541, 'reach': 542, 'week': 543, 'decis': 544, \"'ve\": 545, '3': 546, 'inaugur': 547, 'check': 548, 'bring': 549, 'home': 550, 'wish': 551, 'dead': 552, 'review': 553, '9/27/17': 554, 'arriv': 555, 'indiana': 556, 'collus': 557, 'rule': 558, '11:32': 559, 'mccain': 560, 'posit': 561, 'sign': 562, 'like': 563, 'luther': 564, 'strang': 565, 'council': 566, 'met': 567, '9/26/17': 568, 'attack': 569, 'mean': 570, 'word': 571, 'entir': 572, 'heard': 573, 'whether': 574, 'repeal': 575, 'replac': 576, 'top': 577, 'well': 578, 'old': 579, 'alreadi': 580, 'florida': 581, 'texa': 582, 'tremend': 583, 'return': 584, '9/24/17': 585, 'vet': 586, '7': 587, 'arizona': 588, '--': 589, 'patriot': 590, 'refus': 591, 'foreign': 592, '9/23/17': 593, 'consid': 594, 'crowd': 595, 'worst': 596, '9/22/17': 597, 'unga': 598, 'next': 599, 'bias': 600, 'harvey': 601, 'debat': 602, 'world': 603, 'poll': 604, 'york': 605, 'morn': 606, '9/20/17': 607, 'tough': 608, 'afternoon': 609, 'peac': 610, 'promis': 611, 'ocar': 612, '11:00': 613, 'interest': 614, 'deplor': 615, '2:33': 616, 'question': 617, 'true': 618, 'mexico': 619, 'americafirst__': 620, 'full': 621, 'remark': 622, 'defend': 623, 'restor': 624, 'franc': 625, 'focu': 626, 'less': 627, '9/17/17': 628, 'terrorist': 629, 'ban': 630, 'travel': 631, 'stronger': 632, 'crookedhillari': 633, 'form': 634, 'line': 635, 'attorney': 636, 'michigan': 637, 'saturday': 638, '9/15/17': 639, 'life': 640, 'price': 641, '9/14/17': 642, 'berni': 643, 'push': 644, 'unbeliev': 645, 'etc': 646, 'loss': 647, 'china': 648, 'move': 649, 'son': 650, 'anyon': 651, '9/10/17': 652, 'cabinet': 653, 'camp': 654, 'donaldjtrumpjr': 655, 'readi': 656, 'wait': 657, '9/7/17': 658, 'extrem': 659, 'prosper': 660, 'confer': 661, 'concern': 662, 'gop': 663, 'rais': 664, \"'trump\": 665, 'danscavino': 666, '9/3/17': 667, 'matti': 668, 'success': 669, 'threat': 670, 'danger': 671, 'rememb': 672, 'louisiana': 673, 'hurricaneharvey': 674, 'still': 675, 'rig': 676, 'center': 677, 'veteran': 678, 'fals': 679, 'read': 680, 'secret': 681, '8/27/17': 682, '13:15': 683, '8/26/17': 684, 'ahead': 685, '8/25/17': 686, 'air': 687, 'servic': 688, '8/24/17': 689, 'caught': 690, '13:07': 691, 'differ': 692, 'hold': 693, '8/23/17': 694, 'phoenix': 695, 'weak': 696, 'draintheswamp': 697, 'group': 698, 'via': 699, 'maga__': 700, 'p.m.': 701, 'ticket': 702, 'washington': 703, 'bedminst': 704, 'delay': 705, '8/17/17': 706, 'taken': 707, '8/16/17': 708, 'reason': 709, 'idea': 710, 'excit': 711, 'ceo': 712, 'russian': 713, 'chicago': 714, 'defens': 715, '8/9/17': 716, 'e-mail': 717, 'nevada': 718, '8/7/17': 719, 'sourc': 720, 'judg': 721, 'phoni': 722, 'base': 723, 'west': 724, 'iowa': 725, 'ohio': 726, 'wrong': 727, 'took': 728, '8/4/17': 729, 'creat': 730, 'email': 731, 'post': 732, 'invest': 733, 'movement': 734, 'plant': 735, '8/3/17': 736, '7/29/17': 737, 'hunt': 738, 'witch': 739, '7/27/17': 740, 'scandal': 741, 'wisconsin': 742, '7/26/17': 743, 'session': 744, '7/25/17': 745, 'dnc': 746, 'server': 747, 'excus': 748, '7/22/17': 749, 'ford': 750, 'podesta': 751, 'illeg': 752, 'intellig': 753, 'event': 754, 'icymi-': 755, 'germani': 756, 'putin': 757, 'instead': 758, 'info': 759, 'former': 760, 'hillaryclinton': 761, '7/14/17': 762, 'celebr': 763, 'tower': 764, '7/12/17': 765, 'iraq': 766, 'syria': 767, '7/10/17': 768, '7/9/17': 769, 'hack': 770, 'icymi': 771, '7/3/17': 772, '30': 773, '7/1/17': 774, 'fraud': 775, '6/29/17': 776, 'crimin': 777, '6/27/17': 778, 'nomin': 779, 'case': 780, '6/22/17': 781, 'georgia': 782, '6/19/17': 783, '6/13/17': 784, 'americafirst': 785, '6/6/17': 786, 'drudge_report': 787, '6/2/17': 788, '5/10/17': 789, '5/5/17': 790, '5/4/17': 791, '7pm': 792, '4/27/17': 793, '4/22/17': 794, '3/28/17': 795, 'horribl': 796, '3/3/17': 797, '2/15/17': 798, '2/8/17': 799, '1/26/17': 800, 'regist': 801, '1/20/17': 802, '1/17/17': 803, '1/6/17': 804, '1/4/17': 805, '1/3/17': 806, 'thankyoutour2016': 807, '3pm': 808, '12/4/16': 809, '11/30/16': 810, '11/29/16': 811, 'hampshir': 812, '11/27/16': 813, '11/22/16': 814, '11/8/16': 815, '11/7/16': 816, 'votetrumppence16': 817, '11/6/16': 818, 'colorado': 819, '11/4/16': 820, 'teamtrump': 821, '11/3/16': 822, 'imwithy': 823, '11/2/16': 824, '11/1/16': 825, 'wikileak': 826, '10/29/16': 827, '10/28/16': 828, '10/27/16': 829, '11/8': 830, 'trumppence16': 831, '10/25/16': 832, '10/24/16': 833, 'kain': 834, '10/23/16': 835, '10/22/16': 836, '10/21/16': 837, '10/20/16': 838, '//t.co/3kwol2ibaw': 839, 'bigleaguetruth': 840, 'debates2016': 841, '10/19/16': 842, '10/18/16': 843, '10/17/16': 844, '10/16/16': 845, '10/15/16': 846, '10/13/16': 847, '10/11/16': 848, '10/10/16': 849, '10/9/16': 850, '10/6/16': 851, '10/5/16': 852, 'vpdebat': 853, 'timkain': 854, '9/30/16': 855, '9/27/16': 856, 'debatenight': 857, '9/20/16': 858, '9/17/16': 859, '9/15/16': 860, '9/14/16': 861, '9/10/16': 862, '9/9/16': 863, '9/8/16': 864, '9/6/16': 865, '9/5/16': 866, 'african-american': 867, '9/1/16': 868, '8/29/16': 869, '8/26/16': 870, '8/25/16': 871}\n"
     ]
    }
   ],
   "source": [
    "dictionary = corpora.Dictionary(docs_stemmed)\n",
    "dictionary.filter_extremes(no_below=10, no_above=0.5)\n",
    "# could also trim with keep_n=1000 or similar to keep only the top words\n",
    "print(dictionary.token2id)"
   ]
  },
  {
   "cell_type": "code",
   "execution_count": 53,
   "id": "5435ad02-86e9-47d4-b7c2-dfe3f16313c4",
   "metadata": {},
   "outputs": [],
   "source": [
    "corpus = [dictionary.doc2bow(text) for text in docs]"
   ]
  },
  {
   "cell_type": "code",
   "execution_count": 54,
   "id": "567a792d-15e9-4e7f-a8e6-3863664db4da",
   "metadata": {},
   "outputs": [],
   "source": [
    "ldamodel = gensim.models.ldamodel.LdaModel(corpus, \n",
    "                                           num_topics=20, \n",
    "                                           id2word = dictionary, \n",
    "                                           passes=5)"
   ]
  },
  {
   "cell_type": "markdown",
   "id": "857dc5a1-d97c-465f-9473-aeb84ab83ca1",
   "metadata": {},
   "source": [
    "#### For each scenario, print the key words for each topic, and comment on whether they make any sense"
   ]
  },
  {
   "cell_type": "code",
   "execution_count": 55,
   "id": "96eec4c7-ecc3-4bc8-b5eb-07e45cf24599",
   "metadata": {},
   "outputs": [
    {
     "data": {
      "text/plain": [
       "[(0,\n",
       "  '0.077*\"ohio\" + 0.066*\"tomorrow\" + 0.046*\"look\" + 0.043*\"great\" + 0.036*\"forward\" + 0.034*\"state\" + 0.032*\"amp\" + 0.030*\"thank\" + 0.024*\"dishonest\" + 0.021*\"``\"'),\n",
       " (1,\n",
       "  '0.113*\"makeamericagreatagain\" + 0.103*\"way\" + 0.041*\"``\" + 0.035*\"erictrump\" + 0.033*\"1:28\" + 0.033*\"vote\" + 0.031*\"must\" + 0.027*\"system\" + 0.025*\"taken\" + 0.022*\"met\"'),\n",
       " (2,\n",
       "  '0.135*\"``\" + 0.056*\"n\\'t\" + 0.029*\"bill\" + 0.026*\"know\" + 0.025*\"cnn\" + 0.023*\"lost\" + 0.020*\"russia\" + 0.020*\"great\" + 0.019*\"nice\" + 0.019*\"right\"'),\n",
       " (3,\n",
       "  '0.148*\"draintheswamp\" + 0.065*\"time\" + 0.063*\"tonight\" + 0.058*\"enjoy\" + 0.055*\"\\'s\" + 0.045*\"donald\" + 0.042*\"trump\" + 0.042*\"see\" + 0.037*\"vote\" + 0.034*\"win\"'),\n",
       " (4,\n",
       "  '0.070*\"amp\" + 0.069*\"``\" + 0.048*\"repeal\" + 0.048*\"much\" + 0.048*\"never\" + 0.032*\"even\" + 0.028*\"time\" + 0.025*\"come\" + 0.024*\"30\" + 0.019*\"n\\'t\"'),\n",
       " (5,\n",
       "  '0.111*\"north\" + 0.060*\"carolina\" + 0.046*\"korea\" + 0.042*\"iowa\" + 0.040*\"american\" + 0.034*\"china\" + 0.029*\"thank\" + 0.028*\"trade\" + 0.028*\"``\" + 0.021*\"problem\"'),\n",
       " (6,\n",
       "  '0.111*\"``\" + 0.079*\"thank\" + 0.039*\"year\" + 0.032*\"d.c.\" + 0.032*\"washington\" + 0.030*\"melania\" + 0.026*\"day\" + 0.022*\"\\'s\" + 0.022*\"record\" + 0.022*\"arizona\"'),\n",
       " (7,\n",
       "  '0.069*\"back\" + 0.052*\"``\" + 0.046*\"need\" + 0.034*\"border\" + 0.032*\"tax\" + 0.030*\"strong\" + 0.027*\"fight\" + 0.025*\"want\" + 0.025*\"us\" + 0.025*\"order\"'),\n",
       " (8,\n",
       "  '0.082*\"american\" + 0.068*\"world\" + 0.046*\"``\" + 0.046*\"best\" + 0.038*\"7pm\" + 0.032*\"...\" + 0.028*\"icymi-\" + 0.022*\"\\'s\" + 0.022*\"job\" + 0.021*\"friday\"'),\n",
       " (9,\n",
       "  '0.157*\"rt\" + 0.075*\"americafirst\" + 0.074*\"new\" + 0.073*\"trump\" + 0.057*\"maga\" + 0.056*\"thank\" + 0.045*\"poll\" + 0.023*\"via\" + 0.021*\"danscavino\" + 0.018*\"first\"'),\n",
       " (10,\n",
       "  '0.159*\"join\" + 0.109*\"today\" + 0.058*\"great\" + 0.052*\"us\" + 0.045*\"live\" + 0.042*\"honor\" + 0.028*\"thank\" + 0.023*\"ohio\" + 0.021*\"florida\" + 0.021*\"maga\"'),\n",
       " (11,\n",
       "  '0.183*\"great\" + 0.143*\"america\" + 0.122*\"make\" + 0.054*\"last\" + 0.045*\"night\" + 0.044*\"safe\" + 0.042*\"thank\" + 0.030*\"``\" + 0.014*\"maga\" + 0.013*\"end\"'),\n",
       " (12,\n",
       "  '0.080*\"``\" + 0.077*\"job\" + 0.073*\"campaign\" + 0.047*\"great\" + 0.037*\"true\" + 0.023*\"birthday\" + 0.023*\"today\" + 0.022*\"cost\" + 0.021*\"done\" + 0.021*\"trump\"'),\n",
       " (13,\n",
       "  '0.076*\"great\" + 0.068*\"``\" + 0.047*\"support\" + 0.042*\"florida\" + 0.027*\"amp\" + 0.026*\"governor\" + 0.025*\"big\" + 0.024*\"tomorrow\" + 0.024*\"thank\" + 0.023*\"crowd\"'),\n",
       " (14,\n",
       "  '0.118*\"\\'s\" + 0.041*\"big\" + 0.034*\"rt\" + 0.033*\"get\" + 0.032*\"speech\" + 0.027*\"vote\" + 0.026*\"draintheswamp\" + 0.024*\"--\" + 0.021*\"icymi\" + 0.021*\"seen\"'),\n",
       " (15,\n",
       "  '0.083*\"would\" + 0.083*\"u.s.\" + 0.071*\"``\" + 0.046*\"bad\" + 0.041*\"let\" + 0.036*\"deal\" + 0.025*\"saturday\" + 0.023*\"fact\" + 0.022*\"big\" + 0.022*\"n\\'t\"'),\n",
       " (16,\n",
       "  '0.161*\"``\" + 0.039*\"clinton\" + 0.034*\"wow\" + 0.030*\"trump\" + 0.023*\"n\\'t\" + 0.023*\"go\" + 0.022*\"got\" + 0.020*\"hard\" + 0.019*\"comey\" + 0.017*\"...\"'),\n",
       " (17,\n",
       "  '0.219*\"amp\" + 0.077*\"thank\" + 0.069*\"watch\" + 0.054*\"get\" + 0.046*\"movement\" + 0.044*\"women\" + 0.038*\"vote\" + 0.034*\"maga\" + 0.028*\"work\" + 0.015*\"today\"'),\n",
       " (18,\n",
       "  '0.087*\"news\" + 0.084*\"hillaryclinton\" + 0.065*\"media\" + 0.065*\"fake\" + 0.054*\"``\" + 0.030*\"new\" + 0.027*\"rt\" + 0.023*\"get\" + 0.019*\"report\" + 0.018*\"cnn\"'),\n",
       " (19,\n",
       "  '0.175*\"clinton\" + 0.100*\"``\" + 0.044*\"rt\" + 0.042*\"said\" + 0.032*\"obama\" + 0.030*\"talk\" + 0.025*\"say\" + 0.023*\"total\" + 0.020*\"news\" + 0.019*\"sad\"')]"
      ]
     },
     "execution_count": 55,
     "metadata": {},
     "output_type": "execute_result"
    }
   ],
   "source": [
    "ldamodel.show_topics(num_topics=20)"
   ]
  },
  {
   "cell_type": "code",
   "execution_count": 57,
   "id": "ba85ab6a-57e7-4a0c-9f2f-d16dafce1b69",
   "metadata": {},
   "outputs": [
    {
     "name": "stdout",
     "output_type": "stream",
     "text": [
      "(7, '0.069*\"back\" + 0.052*\"``\" + 0.046*\"need\" + 0.034*\"border\" + 0.032*\"tax\" + 0.030*\"strong\" + 0.027*\"fight\" + 0.025*\"want\" + 0.025*\"us\" + 0.025*\"order\" + 0.023*\"take\" + 0.021*\"bring\" + 0.020*\"one\" + 0.018*\"amp\" + 0.016*\"rt\" + 0.016*\"stand\" + 0.015*\"..\" + 0.014*\"air\" + 0.014*\"big\" + 0.014*\"proud\"')\n",
      "15:19\n",
      "\n",
      "\n",
      "(19, '0.175*\"clinton\" + 0.100*\"``\" + 0.044*\"rt\" + 0.042*\"said\" + 0.032*\"obama\" + 0.030*\"talk\" + 0.025*\"say\" + 0.023*\"total\" + 0.020*\"news\" + 0.019*\"sad\" + 0.019*\"donaldjtrumpjr\" + 0.018*\"gave\" + 0.017*\"trump\" + 0.017*\"lie\" + 0.016*\"told\" + 0.015*\"cnn\" + 0.015*\"worst\" + 0.014*\"never\" + 0.014*\"former\" + 0.012*\"...\"')\n",
      "15:19\n",
      "\n",
      "\n"
     ]
    }
   ],
   "source": [
    "print(ldamodel.show_topics(num_topics=20, num_words=20)[7])\n",
    "print(i[1])\n",
    "print('\\n')\n",
    "\n",
    "print(ldamodel.show_topics(num_topics=20, num_words=20)[19])\n",
    "print(i[1])\n",
    "print('\\n')"
   ]
  },
  {
   "cell_type": "markdown",
   "id": "ea83e6eb-acd2-4157-9c4e-cca037792ae6",
   "metadata": {},
   "source": [
    "The seventh topic seems to be about borders and tax while the nineteenth topic seems to be about previous politicians. The words do make sense: in the seventh topic, there is a big emphasis on American pride. In the nineteenth topic, there's a lot of words that are associated with describing politicians."
   ]
  },
  {
   "cell_type": "markdown",
   "id": "68a644fc-49e4-402a-bd2f-7e61620bb612",
   "metadata": {},
   "source": [
    "### Choose the topic model that seems most interesting to you, and use it to compare the topics found for Trump vs those found for Obama\n"
   ]
  },
  {
   "cell_type": "markdown",
   "id": "a630298b-eed5-4712-b34f-d0c08ec56d1c",
   "metadata": {},
   "source": [
    "I noticed that the topics for Trump seem to be more negative and are pretty representative of his America first platform. There is a lot of nationalistic words with greater frequency and mention to America and its post politicians. Obama on the other hand has a lot of focus on health and jobs, with less frequent mention"
   ]
  }
 ],
 "metadata": {
  "kernelspec": {
   "display_name": "Python 3 (ipykernel)",
   "language": "python",
   "name": "python3"
  },
  "language_info": {
   "codemirror_mode": {
    "name": "ipython",
    "version": 3
   },
   "file_extension": ".py",
   "mimetype": "text/x-python",
   "name": "python",
   "nbconvert_exporter": "python",
   "pygments_lexer": "ipython3",
   "version": "3.9.6"
  }
 },
 "nbformat": 4,
 "nbformat_minor": 5
}
